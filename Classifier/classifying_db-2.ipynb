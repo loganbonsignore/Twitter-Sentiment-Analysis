{
 "cells": [
  {
   "cell_type": "code",
   "execution_count": 22,
   "metadata": {},
   "outputs": [],
   "source": [
    "import pymongo\n",
    "import datetime\n",
    "import pandas as pd\n",
    "import matplotlib.pyplot as plt\n",
    "import numpy as np\n",
    "from classifier import classifier"
   ]
  },
  {
   "cell_type": "code",
   "execution_count": 23,
   "metadata": {},
   "outputs": [],
   "source": [
    "# connect to MongoDB\n",
    "conn = \"mongodb://localhost:27017\"\n",
    "client = pymongo.MongoClient(conn)\n",
    "db = client.twitter_db"
   ]
  },
  {
   "cell_type": "code",
   "execution_count": 24,
   "metadata": {},
   "outputs": [
    {
     "data": {
      "text/html": [
       "<div>\n",
       "<style scoped>\n",
       "    .dataframe tbody tr th:only-of-type {\n",
       "        vertical-align: middle;\n",
       "    }\n",
       "\n",
       "    .dataframe tbody tr th {\n",
       "        vertical-align: top;\n",
       "    }\n",
       "\n",
       "    .dataframe thead th {\n",
       "        text-align: right;\n",
       "    }\n",
       "</style>\n",
       "<table border=\"1\" class=\"dataframe\">\n",
       "  <thead>\n",
       "    <tr style=\"text-align: right;\">\n",
       "      <th></th>\n",
       "      <th>_id</th>\n",
       "      <th>search_term</th>\n",
       "      <th>date_posted</th>\n",
       "      <th>original_tweet</th>\n",
       "      <th>clean_tokenized_tweet</th>\n",
       "      <th>num_of_favorites</th>\n",
       "      <th>num_of_replies</th>\n",
       "      <th>num_retweets</th>\n",
       "    </tr>\n",
       "  </thead>\n",
       "  <tbody>\n",
       "    <tr>\n",
       "      <th>0</th>\n",
       "      <td>5f4e95072d91818a56b31134</td>\n",
       "      <td>cheesecake factory</td>\n",
       "      <td>2019-01-27 23:54:08</td>\n",
       "      <td>breaking down in the middle of the cheesecake ...</td>\n",
       "      <td>[break, down, in, the, middle, of, the, cheese...</td>\n",
       "      <td>0</td>\n",
       "      <td>0</td>\n",
       "      <td>0</td>\n",
       "    </tr>\n",
       "    <tr>\n",
       "      <th>1</th>\n",
       "      <td>5f4e95072d91818a56b31135</td>\n",
       "      <td>cheesecake factory</td>\n",
       "      <td>2019-01-27 23:47:59</td>\n",
       "      <td>Oooweee that fresh banana cheesecake from the ...</td>\n",
       "      <td>[oooweee, that, fresh, banana, cheesecake, fro...</td>\n",
       "      <td>0</td>\n",
       "      <td>0</td>\n",
       "      <td>0</td>\n",
       "    </tr>\n",
       "    <tr>\n",
       "      <th>2</th>\n",
       "      <td>5f4e95072d91818a56b31136</td>\n",
       "      <td>cheesecake factory</td>\n",
       "      <td>2019-01-27 23:43:43</td>\n",
       "      <td>The discovery that Cheesecake Factory delivers...</td>\n",
       "      <td>[the, discovery, that, cheesecake, factory, de...</td>\n",
       "      <td>7</td>\n",
       "      <td>1</td>\n",
       "      <td>0</td>\n",
       "    </tr>\n",
       "    <tr>\n",
       "      <th>3</th>\n",
       "      <td>5f4e95072d91818a56b31137</td>\n",
       "      <td>cheesecake factory</td>\n",
       "      <td>2019-01-27 23:40:33</td>\n",
       "      <td>Happy 20th birthday to my Lil'Rog!!! Love U!!!...</td>\n",
       "      <td>[happy, birthday, to, my, lil'rog, love, u, 😍😍...</td>\n",
       "      <td>0</td>\n",
       "      <td>0</td>\n",
       "      <td>0</td>\n",
       "    </tr>\n",
       "    <tr>\n",
       "      <th>4</th>\n",
       "      <td>5f4e95072d91818a56b31138</td>\n",
       "      <td>cheesecake factory</td>\n",
       "      <td>2019-01-27 23:38:12</td>\n",
       "      <td>IM AT THE CHEESECAKE FACTORY AND MY MIND IS BL...</td>\n",
       "      <td>[im, at, the, cheesecake, factory, and, my, mi...</td>\n",
       "      <td>0</td>\n",
       "      <td>0</td>\n",
       "      <td>0</td>\n",
       "    </tr>\n",
       "  </tbody>\n",
       "</table>\n",
       "</div>"
      ],
      "text/plain": [
       "                        _id         search_term         date_posted  \\\n",
       "0  5f4e95072d91818a56b31134  cheesecake factory 2019-01-27 23:54:08   \n",
       "1  5f4e95072d91818a56b31135  cheesecake factory 2019-01-27 23:47:59   \n",
       "2  5f4e95072d91818a56b31136  cheesecake factory 2019-01-27 23:43:43   \n",
       "3  5f4e95072d91818a56b31137  cheesecake factory 2019-01-27 23:40:33   \n",
       "4  5f4e95072d91818a56b31138  cheesecake factory 2019-01-27 23:38:12   \n",
       "\n",
       "                                      original_tweet  \\\n",
       "0  breaking down in the middle of the cheesecake ...   \n",
       "1  Oooweee that fresh banana cheesecake from the ...   \n",
       "2  The discovery that Cheesecake Factory delivers...   \n",
       "3  Happy 20th birthday to my Lil'Rog!!! Love U!!!...   \n",
       "4  IM AT THE CHEESECAKE FACTORY AND MY MIND IS BL...   \n",
       "\n",
       "                               clean_tokenized_tweet  num_of_favorites  \\\n",
       "0  [break, down, in, the, middle, of, the, cheese...                 0   \n",
       "1  [oooweee, that, fresh, banana, cheesecake, fro...                 0   \n",
       "2  [the, discovery, that, cheesecake, factory, de...                 7   \n",
       "3  [happy, birthday, to, my, lil'rog, love, u, 😍😍...                 0   \n",
       "4  [im, at, the, cheesecake, factory, and, my, mi...                 0   \n",
       "\n",
       "   num_of_replies  num_retweets  \n",
       "0               0             0  \n",
       "1               0             0  \n",
       "2               1             0  \n",
       "3               0             0  \n",
       "4               0             0  "
      ]
     },
     "execution_count": 24,
     "metadata": {},
     "output_type": "execute_result"
    }
   ],
   "source": [
    "# create dataframe\n",
    "df = pd.DataFrame(list(db.cheesecake_factory.find()))\n",
    "df.head()"
   ]
  },
  {
   "cell_type": "markdown",
   "metadata": {},
   "source": [
    "### Classifying all Tweets in dataset"
   ]
  },
  {
   "cell_type": "code",
   "execution_count": 25,
   "metadata": {},
   "outputs": [
    {
     "name": "stdout",
     "output_type": "stream",
     "text": [
      "Positive: 42812\n",
      "Negative: 20382\n",
      "Other: 0\n"
     ]
    }
   ],
   "source": [
    "tokenized_tweets = df[\"clean_tokenized_tweet\"]\n",
    "positive_count = 0\n",
    "negative_count = 0\n",
    "other_count = 0\n",
    "\n",
    "for tweet in tokenized_tweets:\n",
    "    result = classifier.classify(dict([token, True] for token in tweet))\n",
    "    if result == \"Negative\":\n",
    "        negative_count += 1\n",
    "    elif result == \"Positive\":\n",
    "        positive_count += 1\n",
    "    else:\n",
    "        print(result)\n",
    "        other_count += 1\n",
    "\n",
    "print(f\"Positive: {positive_count}\")\n",
    "print(f\"Negative: {negative_count}\")\n",
    "print(f\"Other: {other_count}\")"
   ]
  },
  {
   "cell_type": "markdown",
   "metadata": {},
   "source": [
    "### Classifying specific months of tweets"
   ]
  },
  {
   "cell_type": "code",
   "execution_count": 26,
   "metadata": {},
   "outputs": [],
   "source": [
    "# searching for matching dates\n",
    "def classify_monthly(search_month, search_year):\n",
    "    # find dates in DB that match search month\n",
    "    dates = []\n",
    "    for date in df[\"date_posted\"]:\n",
    "        if (date.month == search_month) and (date.year == search_year):\n",
    "            dates.append(date) \n",
    "\n",
    "    # collecting monthly data from DF\n",
    "    month_rows = []\n",
    "    for index, row in df.iterrows():\n",
    "        if row[\"date_posted\"] in dates:\n",
    "            month_rows.append(row) \n",
    "\n",
    "    # classifying tweets\n",
    "    month_positive_count = 0\n",
    "    month_negative_count = 0\n",
    "    month_other_count = 0\n",
    "    for row in month_rows:\n",
    "        result = classifier.classify(dict([token, True] for token in row[\"clean_tokenized_tweet\"]))\n",
    "        if result == \"Negative\":\n",
    "            month_negative_count += 1\n",
    "        elif result == \"Positive\":\n",
    "            month_positive_count += 1\n",
    "        else:\n",
    "            print(result)\n",
    "            month_other_count += 1\n",
    "    \n",
    "    print(\"-\"*15)\n",
    "    print(f\"Month: {search_month}\")\n",
    "    print(f\"Positive: {month_positive_count}\")\n",
    "    print(f\"Negative: {month_negative_count}\")\n",
    "    print(f\"Other: {month_other_count}\")\n",
    "    print(\"-\"*15)\n",
    "    \n",
    "    return month_positive_count, month_negative_count, month_other_count"
   ]
  },
  {
   "cell_type": "code",
   "execution_count": 27,
   "metadata": {},
   "outputs": [
    {
     "name": "stdout",
     "output_type": "stream",
     "text": [
      "---------------\n",
      "Month: 1\n",
      "Positive: 3368\n",
      "Negative: 1632\n",
      "Other: 0\n",
      "---------------\n",
      "---------------\n",
      "Month: 2\n",
      "Positive: 3527\n",
      "Negative: 1473\n",
      "Other: 0\n",
      "---------------\n",
      "---------------\n",
      "Month: 3\n",
      "Positive: 2865\n",
      "Negative: 2135\n",
      "Other: 0\n",
      "---------------\n",
      "---------------\n",
      "Month: 4\n",
      "Positive: 3234\n",
      "Negative: 1766\n",
      "Other: 0\n",
      "---------------\n",
      "---------------\n",
      "Month: 5\n",
      "Positive: 3289\n",
      "Negative: 1711\n",
      "Other: 0\n",
      "---------------\n",
      "---------------\n",
      "Month: 6\n",
      "Positive: 3409\n",
      "Negative: 1591\n",
      "Other: 0\n",
      "---------------\n",
      "---------------\n",
      "Month: 7\n",
      "Positive: 3350\n",
      "Negative: 1650\n",
      "Other: 0\n",
      "---------------\n",
      "---------------\n",
      "Month: 8\n",
      "Positive: 3380\n",
      "Negative: 1620\n",
      "Other: 0\n",
      "---------------\n",
      "Total Positive: 26422\n",
      "Total Negative: 13578\n",
      "Total Other: 0\n"
     ]
    }
   ],
   "source": [
    "# define month to search for (1-12)\n",
    "search_months = [1,2,3,4,5,6,7,8]\n",
    "year = 2020\n",
    "\n",
    "positive_list = []\n",
    "negative_list = []\n",
    "other_list = []\n",
    "year_total_pos = 0\n",
    "year_total_neg = 0\n",
    "year_total_oth = 0\n",
    "\n",
    "for month in search_months:\n",
    "    total_pos = 0\n",
    "    total_neg = 0\n",
    "    total_other = 0\n",
    "    \n",
    "    pos, neg, oth = classify_monthly(month, year)\n",
    "    total_pos = total_pos + pos\n",
    "    total_neg = total_neg + neg\n",
    "    total_other = total_other + oth\n",
    "    \n",
    "    positive_list.append(total_pos)\n",
    "    negative_list.append(total_neg)\n",
    "    other_list.append(total_other)\n",
    "    \n",
    "    year_total_pos = year_total_pos + pos\n",
    "    year_total_neg = year_total_neg + neg\n",
    "    year_total_oth = year_total_oth + oth\n",
    "    \n",
    "print(f\"Total Positive: {year_total_pos}\")\n",
    "print(f\"Total Negative: {year_total_neg}\")\n",
    "print(f\"Total Other: {total_other}\")"
   ]
  },
  {
   "cell_type": "code",
   "execution_count": 28,
   "metadata": {},
   "outputs": [
    {
     "data": {
      "text/plain": [
       "[3368, 3527, 2865, 3234, 3289, 3409, 3350, 3380]"
      ]
     },
     "execution_count": 28,
     "metadata": {},
     "output_type": "execute_result"
    }
   ],
   "source": [
    "positive_list"
   ]
  },
  {
   "cell_type": "code",
   "execution_count": 29,
   "metadata": {},
   "outputs": [
    {
     "data": {
      "text/plain": [
       "[1632, 1473, 2135, 1766, 1711, 1591, 1650, 1620]"
      ]
     },
     "execution_count": 29,
     "metadata": {},
     "output_type": "execute_result"
    }
   ],
   "source": [
    "negative_list"
   ]
  },
  {
   "cell_type": "markdown",
   "metadata": {},
   "source": [
    "### Plotting Sentiment Trends"
   ]
  },
  {
   "cell_type": "markdown",
   "metadata": {},
   "source": [
    "#### Count of Positive and Negative Tweets Over Time"
   ]
  },
  {
   "cell_type": "code",
   "execution_count": 30,
   "metadata": {},
   "outputs": [
    {
     "data": {
      "image/png": "[encoded data removed]",
      "text/plain": [
       "<Figure size 1080x432 with 1 Axes>"
      ]
     },
     "metadata": {
      "needs_background": "light"
     },
     "output_type": "display_data"
    }
   ],
   "source": [
    "plt.figure(figsize=(15,6))\n",
    "# x_values = [\"Jan\", \"Feb\", \"Mar\", \"Apr\", \"May\", \"Jun\", \"Jul\", \"Aug\", \"Sept\", \"Oct\",\"Nov\", \"Dec\"]\n",
    "x_values = [\"Jan\", \"Feb\", \"Mar\", \"Apr\", \"May\", \"Jun\", \"Jul\", \"Aug\"]\n",
    "plt.plot(x_values, positive_list, label=\"Positive Tweets\")\n",
    "plt.plot(x_values, negative_list, label=\"Negative Tweets\")\n",
    "plt.legend(loc=\"best\")\n",
    "plt.xlabel(\"Month\")\n",
    "plt.ylabel(\"Number of Tweets\")\n",
    "plt.title(f\"'{df.search_term[0].title()}' Twitter Sentiment Trends 2020\")\n",
    "plt.show()"
   ]
  },
  {
   "cell_type": "code",
   "execution_count": 31,
   "metadata": {},
   "outputs": [],
   "source": [
    "total = sum(positive_list+negative_list)\n",
    "pos_value_pct = []\n",
    "\n",
    "for value in positive_list:\n",
    "    pos_pct = (value/total)*100\n",
    "    pos_value_pct.append(pos_pct)\n",
    "    \n",
    "    \n",
    "neg_total = sum(negative_list)\n",
    "neg_value_pct = []\n",
    "\n",
    "for value in negative_list:\n",
    "    neg_pct = (value/total)*100\n",
    "    neg_value_pct.append(neg_pct)"
   ]
  },
  {
   "cell_type": "markdown",
   "metadata": {},
   "source": [
    "#### Percent of Positive and Negative Tweets"
   ]
  },
  {
   "cell_type": "code",
   "execution_count": 32,
   "metadata": {},
   "outputs": [
    {
     "data": {
      "image/png": "[encoded data removed]",
      "text/plain": [
       "<Figure size 1080x432 with 1 Axes>"
      ]
     },
     "metadata": {
      "needs_background": "light"
     },
     "output_type": "display_data"
    }
   ],
   "source": [
    "x_values = np.arange(8)\n",
    "# labels = [\"Jan\", \"Feb\", \"Mar\", \"Apr\", \"May\", \"Jun\", \"Jul\", \"Aug\", \"Sept\", \"Oct\",\"Nov\", \"Dec\"]\n",
    "labels = [\"Jan\", \"Feb\", \"Mar\", \"Apr\", \"May\", \"Jun\", \"Jul\", \"Aug\"]\n",
    "width = 0.3\n",
    "plt.figure(figsize=(15,6))\n",
    "plt.bar(x_values, pos_value_pct , width, label=\"Positive\")\n",
    "plt.bar(x_values + width, neg_value_pct, width , label=\"Negative\")\n",
    "plt.xticks(x_values+width/2,labels)\n",
    "plt.legend(loc=\"best\",prop={'size': 13})\n",
    "plt.ylabel(\"Percent of Total Tweets\")\n",
    "plt.xlabel(\"Months\")\n",
    "plt.title(\"Sentiment Timeline as a Percent of Total Tweets Analyzed\")\n",
    "plt.show()"
   ]
  },
  {
   "cell_type": "code",
   "execution_count": 33,
   "metadata": {},
   "outputs": [
    {
     "data": {
      "image/png": "[encoded data removed]",
      "text/plain": [
       "<Figure size 1080x432 with 1 Axes>"
      ]
     },
     "metadata": {
      "needs_background": "light"
     },
     "output_type": "display_data"
    }
   ],
   "source": [
    "# x_values = [\"Jan\", \"Feb\", \"Mar\", \"Apr\", \"May\", \"Jun\", \"Jul\", \"Aug\", \"Sept\", \"Oct\",\"Nov\", \"Dec\"]\n",
    "x_values = [\"Jan\", \"Feb\", \"Mar\", \"Apr\", \"May\", \"Jun\", \"Jul\", \"Aug\"]\n",
    "plt.figure(figsize=(15,6))\n",
    "plt.plot(x_values, pos_value_pct, label=\"Positive\")\n",
    "plt.plot(x_values, neg_value_pct, label=\"Negative\")\n",
    "plt.legend(loc=\"best\",prop={'size': 13})\n",
    "plt.ylabel(\"Percent of Total Tweets\")\n",
    "plt.xlabel(\"Months\")\n",
    "plt.title(\"Sentiment Timeline as a Percent of Total Tweets Analyzed\")\n",
    "plt.show()"
   ]
  }
 ],
 "metadata": {
  "kernelspec": {
   "display_name": "Python 3",
   "language": "python",
   "name": "python3"
  },
  "language_info": {
   "codemirror_mode": {
    "name": "ipython",
    "version": 3
   },
   "file_extension": ".py",
   "mimetype": "text/x-python",
   "name": "python",
   "nbconvert_exporter": "python",
   "pygments_lexer": "ipython3",
   "version": "3.7.6"
  }
 },
 "nbformat": 4,
 "nbformat_minor": 4
}
