{
 "cells": [
  {
   "cell_type": "code",
   "execution_count": 178,
   "metadata": {},
   "outputs": [],
   "source": [
    "import pymongo\n",
    "import datetime\n",
    "import pandas as pd\n",
    "import matplotlib.pyplot as plt\n",
    "import numpy as np\n",
    "from classifier import classifier"
   ]
  },
  {
   "cell_type": "code",
   "execution_count": 179,
   "metadata": {},
   "outputs": [],
   "source": [
    "# connect to MongoDB\n",
    "conn = \"mongodb://localhost:27017\"\n",
    "client = pymongo.MongoClient(conn)\n",
    "db = client.twitter_db"
   ]
  },
  {
   "cell_type": "code",
   "execution_count": 180,
   "metadata": {},
   "outputs": [
    {
     "data": {
      "text/html": [
       "<div>\n",
       "<style scoped>\n",
       "    .dataframe tbody tr th:only-of-type {\n",
       "        vertical-align: middle;\n",
       "    }\n",
       "\n",
       "    .dataframe tbody tr th {\n",
       "        vertical-align: top;\n",
       "    }\n",
       "\n",
       "    .dataframe thead th {\n",
       "        text-align: right;\n",
       "    }\n",
       "</style>\n",
       "<table border=\"1\" class=\"dataframe\">\n",
       "  <thead>\n",
       "    <tr style=\"text-align: right;\">\n",
       "      <th></th>\n",
       "      <th>_id</th>\n",
       "      <th>search_term</th>\n",
       "      <th>date_posted</th>\n",
       "      <th>original_tweet</th>\n",
       "      <th>clean_tokenized_tweet</th>\n",
       "      <th>num_of_favorites</th>\n",
       "      <th>num_of_replies</th>\n",
       "      <th>num_retweets</th>\n",
       "      <th>username</th>\n",
       "      <th>tweet_id</th>\n",
       "    </tr>\n",
       "  </thead>\n",
       "  <tbody>\n",
       "    <tr>\n",
       "      <th>0</th>\n",
       "      <td>5f4d92a55843bc73d005b0be</td>\n",
       "      <td>cheesecake factory</td>\n",
       "      <td>2019-01-27 23:54:08</td>\n",
       "      <td>breaking down in the middle of the cheesecake ...</td>\n",
       "      <td>[break, down, in, the, middle, of, the, cheese...</td>\n",
       "      <td>0</td>\n",
       "      <td>0</td>\n",
       "      <td>0</td>\n",
       "      <td>bbhwrld</td>\n",
       "      <td>1089672940013084672</td>\n",
       "    </tr>\n",
       "    <tr>\n",
       "      <th>1</th>\n",
       "      <td>5f4d92a55843bc73d005b0bf</td>\n",
       "      <td>cheesecake factory</td>\n",
       "      <td>2019-01-27 23:47:59</td>\n",
       "      <td>Oooweee that fresh banana cheesecake from the ...</td>\n",
       "      <td>[oooweee, that, fresh, banana, cheesecake, fro...</td>\n",
       "      <td>0</td>\n",
       "      <td>0</td>\n",
       "      <td>0</td>\n",
       "      <td>Signed_SDot</td>\n",
       "      <td>1089671390352080896</td>\n",
       "    </tr>\n",
       "    <tr>\n",
       "      <th>2</th>\n",
       "      <td>5f4d92a55843bc73d005b0c0</td>\n",
       "      <td>cheesecake factory</td>\n",
       "      <td>2019-01-27 23:43:43</td>\n",
       "      <td>The discovery that Cheesecake Factory delivers...</td>\n",
       "      <td>[the, discovery, that, cheesecake, factory, de...</td>\n",
       "      <td>7</td>\n",
       "      <td>1</td>\n",
       "      <td>0</td>\n",
       "      <td>thebasicbennett</td>\n",
       "      <td>1089670319823089664</td>\n",
       "    </tr>\n",
       "    <tr>\n",
       "      <th>3</th>\n",
       "      <td>5f4d92a55843bc73d005b0c1</td>\n",
       "      <td>cheesecake factory</td>\n",
       "      <td>2019-01-27 23:40:33</td>\n",
       "      <td>Happy 20th birthday to my Lil'Rog!!! Love U!!!...</td>\n",
       "      <td>[happy, birthday, to, my, lil'rog, love, u, th...</td>\n",
       "      <td>0</td>\n",
       "      <td>0</td>\n",
       "      <td>0</td>\n",
       "      <td>MoneyCoach365</td>\n",
       "      <td>1089669519403044866</td>\n",
       "    </tr>\n",
       "    <tr>\n",
       "      <th>4</th>\n",
       "      <td>5f4d92a55843bc73d005b0c2</td>\n",
       "      <td>cheesecake factory</td>\n",
       "      <td>2019-01-27 23:38:12</td>\n",
       "      <td>IM AT THE CHEESECAKE FACTORY AND MY MIND IS BL...</td>\n",
       "      <td>[im, at, the, cheesecake, factory, and, my, mi...</td>\n",
       "      <td>0</td>\n",
       "      <td>0</td>\n",
       "      <td>0</td>\n",
       "      <td>satistae</td>\n",
       "      <td>1089668929583177728</td>\n",
       "    </tr>\n",
       "  </tbody>\n",
       "</table>\n",
       "</div>"
      ],
      "text/plain": [
       "                        _id         search_term         date_posted  \\\n",
       "0  5f4d92a55843bc73d005b0be  cheesecake factory 2019-01-27 23:54:08   \n",
       "1  5f4d92a55843bc73d005b0bf  cheesecake factory 2019-01-27 23:47:59   \n",
       "2  5f4d92a55843bc73d005b0c0  cheesecake factory 2019-01-27 23:43:43   \n",
       "3  5f4d92a55843bc73d005b0c1  cheesecake factory 2019-01-27 23:40:33   \n",
       "4  5f4d92a55843bc73d005b0c2  cheesecake factory 2019-01-27 23:38:12   \n",
       "\n",
       "                                      original_tweet  \\\n",
       "0  breaking down in the middle of the cheesecake ...   \n",
       "1  Oooweee that fresh banana cheesecake from the ...   \n",
       "2  The discovery that Cheesecake Factory delivers...   \n",
       "3  Happy 20th birthday to my Lil'Rog!!! Love U!!!...   \n",
       "4  IM AT THE CHEESECAKE FACTORY AND MY MIND IS BL...   \n",
       "\n",
       "                               clean_tokenized_tweet  num_of_favorites  \\\n",
       "0  [break, down, in, the, middle, of, the, cheese...                 0   \n",
       "1  [oooweee, that, fresh, banana, cheesecake, fro...                 0   \n",
       "2  [the, discovery, that, cheesecake, factory, de...                 7   \n",
       "3  [happy, birthday, to, my, lil'rog, love, u, th...                 0   \n",
       "4  [im, at, the, cheesecake, factory, and, my, mi...                 0   \n",
       "\n",
       "   num_of_replies  num_retweets         username             tweet_id  \n",
       "0               0             0          bbhwrld  1089672940013084672  \n",
       "1               0             0      Signed_SDot  1089671390352080896  \n",
       "2               1             0  thebasicbennett  1089670319823089664  \n",
       "3               0             0    MoneyCoach365  1089669519403044866  \n",
       "4               0             0         satistae  1089668929583177728  "
      ]
     },
     "execution_count": 180,
     "metadata": {},
     "output_type": "execute_result"
    }
   ],
   "source": [
    "# create dataframe\n",
    "df = pd.DataFrame(list(db.restaurants.find()))\n",
    "df.head()"
   ]
  },
  {
   "cell_type": "markdown",
   "metadata": {},
   "source": [
    "### Classifying all Tweets in dataset"
   ]
  },
  {
   "cell_type": "code",
   "execution_count": 181,
   "metadata": {},
   "outputs": [
    {
     "name": "stdout",
     "output_type": "stream",
     "text": [
      "Positive: 8124\n",
      "Negative: 3876\n",
      "Other: 0\n"
     ]
    }
   ],
   "source": [
    "tokenized_tweets = df[\"clean_tokenized_tweet\"]\n",
    "positive_count = 0\n",
    "negative_count = 0\n",
    "other_count = 0\n",
    "\n",
    "for tweet in tokenized_tweets:\n",
    "    result = classifier.classify(dict([token, True] for token in tweet))\n",
    "    if result == \"Negative\":\n",
    "        negative_count += 1\n",
    "    elif result == \"Positive\":\n",
    "        positive_count += 1\n",
    "    else:\n",
    "        print(result)\n",
    "        other_count += 1\n",
    "\n",
    "print(f\"Positive: {positive_count}\")\n",
    "print(f\"Negative: {negative_count}\")\n",
    "print(f\"Other: {other_count}\")"
   ]
  },
  {
   "cell_type": "markdown",
   "metadata": {},
   "source": [
    "### Classifying specific months of tweets"
   ]
  },
  {
   "cell_type": "code",
   "execution_count": 182,
   "metadata": {},
   "outputs": [],
   "source": [
    "# define month to search for (1-12)\n",
    "search_months = [1,2,3,4,5,6,7,8,9,10,11,12]\n",
    "\n",
    "# searching for matching dates\n",
    "def classify_monthly(search_month):\n",
    "    # find dates in DB that match search month\n",
    "    dates = []\n",
    "    for date in df[\"date_posted\"]:\n",
    "        if date.month == search_month:\n",
    "            dates.append(date) \n",
    "\n",
    "    # collecting monthly data from DF\n",
    "    month_rows = []\n",
    "    for index, row in df.iterrows():\n",
    "        if row[\"date_posted\"] in dates:\n",
    "            month_rows.append(row) \n",
    "\n",
    "    # classifying tweets\n",
    "    month_positive_count = 0\n",
    "    month_negative_count = 0\n",
    "    month_other_count = 0\n",
    "    for row in month_rows:\n",
    "        result = classifier.classify(dict([token, True] for token in row[\"clean_tokenized_tweet\"]))\n",
    "        if result == \"Negative\":\n",
    "            month_negative_count += 1\n",
    "        elif result == \"Positive\":\n",
    "            month_positive_count += 1\n",
    "        else:\n",
    "            print(result)\n",
    "            month_other_count += 1\n",
    "    \n",
    "    print(\"-\"*15)\n",
    "    print(f\"Month: {search_month}\")\n",
    "    print(f\"Positive: {month_positive_count}\")\n",
    "    print(f\"Negative: {month_negative_count}\")\n",
    "    print(f\"Other: {month_other_count}\")\n",
    "    print(\"-\"*15)\n",
    "    \n",
    "    return month_positive_count, month_negative_count, month_other_count"
   ]
  },
  {
   "cell_type": "code",
   "execution_count": 183,
   "metadata": {},
   "outputs": [
    {
     "name": "stdout",
     "output_type": "stream",
     "text": [
      "---------------\n",
      "Month: 1\n",
      "Positive: 681\n",
      "Negative: 319\n",
      "Other: 0\n",
      "---------------\n",
      "---------------\n",
      "Month: 2\n",
      "Positive: 705\n",
      "Negative: 295\n",
      "Other: 0\n",
      "---------------\n",
      "---------------\n",
      "Month: 3\n",
      "Positive: 674\n",
      "Negative: 326\n",
      "Other: 0\n",
      "---------------\n",
      "---------------\n",
      "Month: 4\n",
      "Positive: 694\n",
      "Negative: 306\n",
      "Other: 0\n",
      "---------------\n",
      "---------------\n",
      "Month: 5\n",
      "Positive: 695\n",
      "Negative: 305\n",
      "Other: 0\n",
      "---------------\n",
      "---------------\n",
      "Month: 6\n",
      "Positive: 662\n",
      "Negative: 338\n",
      "Other: 0\n",
      "---------------\n",
      "---------------\n",
      "Month: 7\n",
      "Positive: 668\n",
      "Negative: 332\n",
      "Other: 0\n",
      "---------------\n",
      "---------------\n",
      "Month: 8\n",
      "Positive: 637\n",
      "Negative: 363\n",
      "Other: 0\n",
      "---------------\n",
      "---------------\n",
      "Month: 9\n",
      "Positive: 672\n",
      "Negative: 328\n",
      "Other: 0\n",
      "---------------\n",
      "---------------\n",
      "Month: 10\n",
      "Positive: 691\n",
      "Negative: 309\n",
      "Other: 0\n",
      "---------------\n",
      "---------------\n",
      "Month: 11\n",
      "Positive: 665\n",
      "Negative: 335\n",
      "Other: 0\n",
      "---------------\n",
      "---------------\n",
      "Month: 12\n",
      "Positive: 680\n",
      "Negative: 320\n",
      "Other: 0\n",
      "---------------\n",
      "Total Positive: 8124\n",
      "Total Negative: 3876\n",
      "Total Other: 0\n"
     ]
    }
   ],
   "source": [
    "positive_list = []\n",
    "negative_list = []\n",
    "other_list = []\n",
    "year_total_pos = 0\n",
    "year_total_neg = 0\n",
    "year_total_oth = 0\n",
    "\n",
    "for month in search_months:\n",
    "    total_pos = 0\n",
    "    total_neg = 0\n",
    "    total_other = 0\n",
    "    \n",
    "    pos, neg, oth = classify_monthly(month)\n",
    "    total_pos = total_pos + pos\n",
    "    total_neg = total_neg + neg\n",
    "    total_other = total_other + oth\n",
    "    \n",
    "    positive_list.append(total_pos)\n",
    "    negative_list.append(total_neg)\n",
    "    other_list.append(total_other)\n",
    "    \n",
    "    year_total_pos = year_total_pos + pos\n",
    "    year_total_neg = year_total_neg + neg\n",
    "    year_total_oth = year_total_oth + oth\n",
    "    \n",
    "print(f\"Total Positive: {year_total_pos}\")\n",
    "print(f\"Total Negative: {year_total_neg}\")\n",
    "print(f\"Total Other: {total_other}\")"
   ]
  },
  {
   "cell_type": "code",
   "execution_count": 184,
   "metadata": {},
   "outputs": [
    {
     "data": {
      "text/plain": [
       "[681, 705, 674, 694, 695, 662, 668, 637, 672, 691, 665, 680]"
      ]
     },
     "execution_count": 184,
     "metadata": {},
     "output_type": "execute_result"
    }
   ],
   "source": [
    "positive_list"
   ]
  },
  {
   "cell_type": "code",
   "execution_count": 185,
   "metadata": {},
   "outputs": [
    {
     "data": {
      "text/plain": [
       "[319, 295, 326, 306, 305, 338, 332, 363, 328, 309, 335, 320]"
      ]
     },
     "execution_count": 185,
     "metadata": {},
     "output_type": "execute_result"
    }
   ],
   "source": [
    "negative_list"
   ]
  },
  {
   "cell_type": "markdown",
   "metadata": {},
   "source": [
    "### Plotting Sentiment Trends"
   ]
  },
  {
   "cell_type": "code",
   "execution_count": 187,
   "metadata": {},
   "outputs": [
    {
     "data": {
      "image/png": "[encoded data removed]",
      "text/plain": [
       "<Figure size 936x360 with 1 Axes>"
      ]
     },
     "metadata": {
      "needs_background": "light"
     },
     "output_type": "display_data"
    }
   ],
   "source": [
    "plt.figure(figsize=(13,5))\n",
    "x_values = [\"Jan\", \"Feb\", \"Mar\", \"Apr\", \"May\", \"Jun\", \"Jul\", \"Aug\", \"Sept\", \"Oct\",\"Nov\", \"Dec\"]\n",
    "plt.plot(x_values, positive_list, label=\"Positive Tweets\")\n",
    "plt.plot(x_values, negative_list, label=\"Negative Tweets\")\n",
    "plt.legend(loc=\"center left\")\n",
    "plt.xlabel(\"Month\")\n",
    "plt.ylabel(\"Number of Tweets\")\n",
    "plt.title(f\"'{df.search_term[0].title()}' Twitter Sentiment Trends\")\n",
    "plt.show()"
   ]
  }
 ],
 "metadata": {
  "kernelspec": {
   "display_name": "Python 3",
   "language": "python",
   "name": "python3"
  },
  "language_info": {
   "codemirror_mode": {
    "name": "ipython",
    "version": 3
   },
   "file_extension": ".py",
   "mimetype": "text/x-python",
   "name": "python",
   "nbconvert_exporter": "python",
   "pygments_lexer": "ipython3",
   "version": "3.7.6"
  }
 },
 "nbformat": 4,
 "nbformat_minor": 4
}
