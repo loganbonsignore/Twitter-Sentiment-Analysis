{
 "cells": [
  {
   "cell_type": "markdown",
   "metadata": {},
   "source": [
    "## Twitter Sentiment Analysis\n",
    "#### References:\n",
    "* Training the NaiveBayesClassifier - https://www.digitalocean.com/community/tutorials/how-to-perform-sentiment-analysis-in-python-3-using-the-natural-language-toolkit-nltk#step-1-%E2%80%94-installing-nltk-and-downloading-the-data\n",
    "* NLP - https://www.youtube.com/watch?v=xvqsFTUsOmc , https://github.com/adashofdata/nlp-in-python-tutorial"
   ]
  },
  {
   "cell_type": "markdown",
   "metadata": {},
   "source": [
    "#### What I would do to improve analysis:\n",
    "* Intent analysis - find the user's intention behind the tweet\n",
    "* Analyze larger tweet datasets\n",
    "* Lemmatize words like \"Hi\" and \"Hiiiii\"\n",
    "* Detect sarcasm in tweet\n",
    "* Sentiment analysis API service: https://www.paralleldots.com/sentiment-analysis"
   ]
  },
  {
   "cell_type": "code",
   "execution_count": 95,
   "metadata": {},
   "outputs": [],
   "source": [
    "from nltk.corpus import twitter_samples\n",
    "from nltk.corpus import stopwords\n",
    "stop_words = stopwords.words('english')\n",
    "from nltk.stem.wordnet import WordNetLemmatizer  #lemmatize text (running=run)\n",
    "from nltk.tag import pos_tag  #assign positional tags to tokens (noun, verb, adjective)\n",
    "import re, string  #filter regular expressions\n",
    "from nltk import NaiveBayesClassifier  # classifier algorithm\n",
    "from nltk import classify  #classify tweets as positive or negative\n",
    "from nltk import FreqDist  #determine the most frequent words in analysis\n",
    "from nltk.tokenize import word_tokenize  #tokenize words\n",
    "import random\n",
    "import math\n",
    "import pandas as pd\n",
    "import matplotlib.pyplot as plt\n",
    "import numpy as np\n",
    "import tweepy\n",
    "import warnings\n",
    "warnings.filterwarnings(\"ignore\")\n",
    "from config import api_key, secret_api_key, access_token, secret_access_token"
   ]
  },
  {
   "cell_type": "code",
   "execution_count": 96,
   "metadata": {},
   "outputs": [
    {
     "data": {
      "text/plain": [
       "['negative_tweets.json', 'positive_tweets.json', 'tweets.20150430-223406.json']"
      ]
     },
     "execution_count": 96,
     "metadata": {},
     "output_type": "execute_result"
    }
   ],
   "source": [
    "# viewing json files inside twitter_samples data\n",
    "twitter_samples.fileids()"
   ]
  },
  {
   "cell_type": "markdown",
   "metadata": {},
   "source": [
    "### Checking for bias in the NLTK twitter corpus\n",
    "#### Wrangling data from corpus and twitter API"
   ]
  },
  {
   "cell_type": "code",
   "execution_count": 97,
   "metadata": {},
   "outputs": [
    {
     "data": {
      "text/html": [
       "<div>\n",
       "<style scoped>\n",
       "    .dataframe tbody tr th:only-of-type {\n",
       "        vertical-align: middle;\n",
       "    }\n",
       "\n",
       "    .dataframe tbody tr th {\n",
       "        vertical-align: top;\n",
       "    }\n",
       "\n",
       "    .dataframe thead th {\n",
       "        text-align: right;\n",
       "    }\n",
       "</style>\n",
       "<table border=\"1\" class=\"dataframe\">\n",
       "  <thead>\n",
       "    <tr style=\"text-align: right;\">\n",
       "      <th></th>\n",
       "      <th>user_created_at</th>\n",
       "      <th>user_language</th>\n",
       "      <th>user_followers_count</th>\n",
       "      <th>user_status_count</th>\n",
       "      <th>user_friend_count</th>\n",
       "      <th>user_verified</th>\n",
       "      <th>tweet</th>\n",
       "    </tr>\n",
       "  </thead>\n",
       "  <tbody>\n",
       "    <tr>\n",
       "      <th>0</th>\n",
       "      <td>Thu Feb 18 13:18:49 +0000 2010</td>\n",
       "      <td>fr</td>\n",
       "      <td>3683</td>\n",
       "      <td>12858</td>\n",
       "      <td>1505</td>\n",
       "      <td>False</td>\n",
       "      <td>#FollowFriday @France_Inte @PKuchly57 @Milipol...</td>\n",
       "    </tr>\n",
       "    <tr>\n",
       "      <th>1</th>\n",
       "      <td>Mon Feb 09 14:30:33 +0000 2009</td>\n",
       "      <td>en</td>\n",
       "      <td>22528</td>\n",
       "      <td>13135</td>\n",
       "      <td>834</td>\n",
       "      <td>False</td>\n",
       "      <td>@Lamb2ja Hey James! How odd :/ Please call our...</td>\n",
       "    </tr>\n",
       "    <tr>\n",
       "      <th>2</th>\n",
       "      <td>Mon Aug 23 12:16:57 +0000 2010</td>\n",
       "      <td>en</td>\n",
       "      <td>187</td>\n",
       "      <td>1335</td>\n",
       "      <td>482</td>\n",
       "      <td>False</td>\n",
       "      <td>@DespiteOfficial we had a listen last night :)...</td>\n",
       "    </tr>\n",
       "    <tr>\n",
       "      <th>3</th>\n",
       "      <td>Tue Jul 24 20:38:16 +0000 2012</td>\n",
       "      <td>fr</td>\n",
       "      <td>3231</td>\n",
       "      <td>39809</td>\n",
       "      <td>1052</td>\n",
       "      <td>False</td>\n",
       "      <td>@97sides CONGRATS :)</td>\n",
       "    </tr>\n",
       "    <tr>\n",
       "      <th>4</th>\n",
       "      <td>Tue Jul 29 11:52:14 +0000 2014</td>\n",
       "      <td>en</td>\n",
       "      <td>398</td>\n",
       "      <td>2887</td>\n",
       "      <td>56</td>\n",
       "      <td>False</td>\n",
       "      <td>yeaaaah yippppy!!!  my accnt verified rqst has...</td>\n",
       "    </tr>\n",
       "  </tbody>\n",
       "</table>\n",
       "</div>"
      ],
      "text/plain": [
       "                  user_created_at user_language  user_followers_count  \\\n",
       "0  Thu Feb 18 13:18:49 +0000 2010            fr                  3683   \n",
       "1  Mon Feb 09 14:30:33 +0000 2009            en                 22528   \n",
       "2  Mon Aug 23 12:16:57 +0000 2010            en                   187   \n",
       "3  Tue Jul 24 20:38:16 +0000 2012            fr                  3231   \n",
       "4  Tue Jul 29 11:52:14 +0000 2014            en                   398   \n",
       "\n",
       "   user_status_count  user_friend_count  user_verified  \\\n",
       "0              12858               1505          False   \n",
       "1              13135                834          False   \n",
       "2               1335                482          False   \n",
       "3              39809               1052          False   \n",
       "4               2887                 56          False   \n",
       "\n",
       "                                               tweet  \n",
       "0  #FollowFriday @France_Inte @PKuchly57 @Milipol...  \n",
       "1  @Lamb2ja Hey James! How odd :/ Please call our...  \n",
       "2  @DespiteOfficial we had a listen last night :)...  \n",
       "3                               @97sides CONGRATS :)  \n",
       "4  yeaaaah yippppy!!!  my accnt verified rqst has...  "
      ]
     },
     "execution_count": 97,
     "metadata": {},
     "output_type": "execute_result"
    }
   ],
   "source": [
    "# combining NLTK positive and negative datasets\n",
    "user_created_at = [i[\"user\"][\"created_at\"] for i in twitter_samples.docs(\"positive_tweets.json\")] + [i[\"user\"][\"created_at\"] for i in twitter_samples.docs(\"negative_tweets.json\")]\n",
    "user_language = [i[\"user\"][\"lang\"] for i in twitter_samples.docs(\"positive_tweets.json\")] + [i[\"lang\"] for i in twitter_samples.docs(\"negative_tweets.json\")]\n",
    "user_followers_count = [i[\"user\"][\"followers_count\"] for i in twitter_samples.docs(\"positive_tweets.json\")] + [i[\"user\"][\"followers_count\"] for i in twitter_samples.docs(\"negative_tweets.json\")]\n",
    "user_status_count = [i[\"user\"][\"statuses_count\"] for i in twitter_samples.docs(\"positive_tweets.json\")] + [i[\"user\"][\"statuses_count\"] for i in twitter_samples.docs(\"negative_tweets.json\")]\n",
    "user_friend_count = [i[\"user\"][\"friends_count\"] for i in twitter_samples.docs(\"positive_tweets.json\")] + [i[\"user\"][\"friends_count\"] for i in twitter_samples.docs(\"negative_tweets.json\")]\n",
    "user_verified = [i[\"user\"][\"verified\"] for i in twitter_samples.docs(\"positive_tweets.json\")] + [i[\"user\"][\"verified\"] for i in twitter_samples.docs(\"negative_tweets.json\")]\n",
    "corpus_tweets = [i[\"text\"] for i in twitter_samples.docs(\"positive_tweets.json\")] + [i[\"text\"] for i in twitter_samples.docs(\"negative_tweets.json\")]\n",
    "\n",
    "# creating dataframe\n",
    "corpus_df = pd.DataFrame({\n",
    "    \"user_created_at\":user_created_at,\n",
    "    \"user_language\":user_language,\n",
    "    \"user_followers_count\":user_followers_count,\n",
    "    \"user_status_count\":user_status_count,\n",
    "    \"user_friend_count\":user_friend_count,\n",
    "    \"user_verified\":user_verified,\n",
    "    \"tweet\":corpus_tweets\n",
    "})\n",
    "\n",
    "corpus_df.head()"
   ]
  },
  {
   "cell_type": "code",
   "execution_count": 98,
   "metadata": {},
   "outputs": [
    {
     "data": {
      "text/html": [
       "<div>\n",
       "<style scoped>\n",
       "    .dataframe tbody tr th:only-of-type {\n",
       "        vertical-align: middle;\n",
       "    }\n",
       "\n",
       "    .dataframe tbody tr th {\n",
       "        vertical-align: top;\n",
       "    }\n",
       "\n",
       "    .dataframe thead th {\n",
       "        text-align: right;\n",
       "    }\n",
       "</style>\n",
       "<table border=\"1\" class=\"dataframe\">\n",
       "  <thead>\n",
       "    <tr style=\"text-align: right;\">\n",
       "      <th></th>\n",
       "      <th>user_created_at</th>\n",
       "      <th>user_language</th>\n",
       "      <th>user_followers_count</th>\n",
       "      <th>user_status_count</th>\n",
       "      <th>user_friend_count</th>\n",
       "      <th>user_verified</th>\n",
       "      <th>tweet</th>\n",
       "    </tr>\n",
       "  </thead>\n",
       "  <tbody>\n",
       "    <tr>\n",
       "      <th>0</th>\n",
       "      <td>2009-01-17 07:02:45</td>\n",
       "      <td>en</td>\n",
       "      <td>269</td>\n",
       "      <td>11362</td>\n",
       "      <td>1278</td>\n",
       "      <td>False</td>\n",
       "      <td>RT @jonathanalter: Paging all lawyers who want...</td>\n",
       "    </tr>\n",
       "    <tr>\n",
       "      <th>1</th>\n",
       "      <td>2019-02-08 04:53:26</td>\n",
       "      <td>en</td>\n",
       "      <td>379</td>\n",
       "      <td>2910</td>\n",
       "      <td>292</td>\n",
       "      <td>False</td>\n",
       "      <td>RT @ickobel: all I know is pain™ https://t.co/...</td>\n",
       "    </tr>\n",
       "    <tr>\n",
       "      <th>2</th>\n",
       "      <td>2009-08-31 01:54:16</td>\n",
       "      <td>en</td>\n",
       "      <td>196</td>\n",
       "      <td>11202</td>\n",
       "      <td>685</td>\n",
       "      <td>False</td>\n",
       "      <td>RT @brettirwin15: Still no cancer meds in the ...</td>\n",
       "    </tr>\n",
       "    <tr>\n",
       "      <th>3</th>\n",
       "      <td>2015-06-16 11:11:53</td>\n",
       "      <td>en</td>\n",
       "      <td>45</td>\n",
       "      <td>3391</td>\n",
       "      <td>54</td>\n",
       "      <td>False</td>\n",
       "      <td>RT @saintscommlagos: Note this ..\\n\\nEven if y...</td>\n",
       "    </tr>\n",
       "    <tr>\n",
       "      <th>4</th>\n",
       "      <td>2009-08-13 03:09:16</td>\n",
       "      <td>th</td>\n",
       "      <td>234</td>\n",
       "      <td>8434</td>\n",
       "      <td>96</td>\n",
       "      <td>False</td>\n",
       "      <td>RT @YounaChann: สงสารคนต่างจังหวัดมากนะเอาจริง...</td>\n",
       "    </tr>\n",
       "  </tbody>\n",
       "</table>\n",
       "</div>"
      ],
      "text/plain": [
       "      user_created_at user_language  user_followers_count  user_status_count  \\\n",
       "0 2009-01-17 07:02:45            en                   269              11362   \n",
       "1 2019-02-08 04:53:26            en                   379               2910   \n",
       "2 2009-08-31 01:54:16            en                   196              11202   \n",
       "3 2015-06-16 11:11:53            en                    45               3391   \n",
       "4 2009-08-13 03:09:16            th                   234               8434   \n",
       "\n",
       "   user_friend_count  user_verified  \\\n",
       "0               1278          False   \n",
       "1                292          False   \n",
       "2                685          False   \n",
       "3                 54          False   \n",
       "4                 96          False   \n",
       "\n",
       "                                               tweet  \n",
       "0  RT @jonathanalter: Paging all lawyers who want...  \n",
       "1  RT @ickobel: all I know is pain™ https://t.co/...  \n",
       "2  RT @brettirwin15: Still no cancer meds in the ...  \n",
       "3  RT @saintscommlagos: Note this ..\\n\\nEven if y...  \n",
       "4  RT @YounaChann: สงสารคนต่างจังหวัดมากนะเอาจริง...  "
      ]
     },
     "execution_count": 98,
     "metadata": {},
     "output_type": "execute_result"
    }
   ],
   "source": [
    "# establishing connection to twitter api\n",
    "auth = tweepy.OAuthHandler(api_key, secret_api_key)\n",
    "auth.set_access_token(access_token, secret_access_token)\n",
    "api = tweepy.API(auth)\n",
    "\n",
    "# requesting API\n",
    "response = api.search(q=\"all\",count=100,tweet_mode=\"extended\")\n",
    "\n",
    "# compiling data\n",
    "api_df = pd.DataFrame({\n",
    "    \"user_created_at\":[i.user.created_at for i in response],\n",
    "    \"user_language\":[i.lang for i in response],\n",
    "    \"user_followers_count\":[i.user.followers_count for i in response],\n",
    "    \"user_status_count\":[i.user.statuses_count for i in response],\n",
    "    \"user_friend_count\":[i.user.friends_count for i in response],\n",
    "    \"user_verified\":[i.user.verified for i in response],\n",
    "    \"tweet\":[i.full_text for i in response]\n",
    "})\n",
    "api_df.head()"
   ]
  },
  {
   "cell_type": "code",
   "execution_count": 99,
   "metadata": {},
   "outputs": [
    {
     "data": {
      "text/plain": [
       "en       9261\n",
       "en-gb     171\n",
       "id        100\n",
       "fr         96\n",
       "de         75\n",
       "Name: user_language, dtype: int64"
      ]
     },
     "execution_count": 99,
     "metadata": {},
     "output_type": "execute_result"
    }
   ],
   "source": [
    "# top 5 languages and tweet counts\n",
    "corpus_df[\"user_language\"].value_counts()[:5]"
   ]
  },
  {
   "cell_type": "markdown",
   "metadata": {},
   "source": [
    "#### Understanding the model's vocabulary\n",
    "* The model is being trained to classify tweets in english\n",
    "* It will struggle to accuratly classify tweets in any other language"
   ]
  },
  {
   "cell_type": "code",
   "execution_count": 100,
   "metadata": {},
   "outputs": [
    {
     "data": {
      "image/png": "[encoded data removed]",
      "text/plain": [
       "<Figure size 1080x504 with 1 Axes>"
      ]
     },
     "metadata": {
      "needs_background": "light"
     },
     "output_type": "display_data"
    }
   ],
   "source": [
    "# converting language counts to percentage\n",
    "counts = corpus_df[\"user_language\"].value_counts()[:5]\n",
    "total = counts.sum()\n",
    "points = []\n",
    "for i in counts:\n",
    "    percent = round(i/total*100,2)\n",
    "    points.append(percent)\n",
    "    \n",
    "# plotting\n",
    "labels = [\"English_US\",\"English_GB\",\"Indonesian\",\"French\",\"German\"]\n",
    "plt.figure(figsize=(15,7))\n",
    "plt.bar(np.arange(5),points)\n",
    "plt.xticks(np.arange(5),labels)\n",
    "plt.title(\"NLTK Corpus Language Distribution (Top 5)\", size=14)\n",
    "plt.ylabel(\"Percent of Tweets\",size=12)\n",
    "plt.show()"
   ]
  },
  {
   "cell_type": "code",
   "execution_count": 101,
   "metadata": {},
   "outputs": [],
   "source": [
    "# calculating means across corpus and real-time tweets\n",
    "api_avg_followers = api_df[\"user_followers_count\"].mean()\n",
    "corpus_avg_followers = corpus_df[\"user_followers_count\"].mean()\n",
    "api_avg_statuses = api_df[\"user_status_count\"].mean()\n",
    "corpus_avg_statuses = corpus_df[\"user_status_count\"].mean()\n",
    "api_avg_friend_count = api_df[\"user_friend_count\"].mean()\n",
    "corpus_avg_friend_count = corpus_df[\"user_friend_count\"].mean()\n",
    "api_avg_user_verified = len(api_df.loc[api_df[\"user_verified\"]==\"True\"])\n",
    "corpus_avg_user_verified = len(corpus_df.loc[corpus_df[\"user_verified\"]==\"True\"])\n",
    "api = [api_avg_followers,api_avg_statuses,api_avg_friend_count,api_avg_user_verified]\n",
    "corpus = [corpus_avg_followers, corpus_avg_statuses, corpus_avg_friend_count, corpus_avg_user_verified]"
   ]
  },
  {
   "cell_type": "markdown",
   "metadata": {},
   "source": [
    "#### Comparing user characteristics\n",
    "* Average user characteristics of 100 real-time tweets are compared to average user characteristics from NLTK corpus tweets\n",
    "* Similar distribution of user profile characteristics suggests the NLTK data accuratly describes the average twitter user"
   ]
  },
  {
   "cell_type": "code",
   "execution_count": 110,
   "metadata": {},
   "outputs": [
    {
     "data": {
      "image/png": "[encoded data removed]",
      "text/plain": [
       "<Figure size 1080x504 with 1 Axes>"
      ]
     },
     "metadata": {
      "needs_background": "light"
     },
     "output_type": "display_data"
    }
   ],
   "source": [
    "# plotting\n",
    "x_values = np.arange(4)\n",
    "labels = [\"Followers\",\"Statuses Posted\",\"Friend Count\",\"Verified\"]\n",
    "width = 0.4\n",
    "plt.figure(figsize=(15,7))\n",
    "plt.bar(x_values, api , width, label=\"Real-Time Tweets\")\n",
    "plt.bar(x_values + width, corpus, width, label=\"NLTK Corpus\")\n",
    "plt.xticks(x_values+width/2,labels)\n",
    "plt.legend(loc=\"best\",prop={'size': 14})\n",
    "plt.ylabel(\"Average Count Per User\", size=12)\n",
    "plt.title(\"User Behind The Tweet\",size=14)\n",
    "plt.show()"
   ]
  },
  {
   "cell_type": "code",
   "execution_count": 103,
   "metadata": {},
   "outputs": [],
   "source": [
    "# converting tweets into one large string value\n",
    "api_tweets = api_df['tweet'].str.lower().str.cat(sep=' ')\n",
    "corpus_tweets = corpus_df['tweet'].sample(100).str.lower().str.cat(sep=' ')\n",
    "\n",
    "# normalizing the data\n",
    "stop_words=set(stopwords.words('english'))\n",
    "api_tokenize=word_tokenize(api_tweets)\n",
    "corpus_tokenize=word_tokenize(corpus_tweets)\n",
    "# filtering punctuation, numbers, spaces, etc\n",
    "api_alpha_tokenize=[word for word in api_tokenize if word.isalpha()]\n",
    "corpus_alpha_tokenize=[word for word in corpus_tokenize if word.isalpha()]\n",
    "# filtering stop words, rt\n",
    "api_filtered_tokenize=[word for word in api_alpha_tokenize if not word in stop_words and word != \"rt\"]\n",
    "corpus_filtered_tokenize=[word for word in corpus_alpha_tokenize if not word in stop_words and word != \"rt\"]"
   ]
  },
  {
   "cell_type": "markdown",
   "metadata": {},
   "source": [
    "#### Word frequency distribution\n",
    "* Plotting the distribution of words across both datasets\n",
    "* Similar distributions with limited skewness indicates a lower chance of bias in the NLTK training dataset"
   ]
  },
  {
   "cell_type": "code",
   "execution_count": 109,
   "metadata": {},
   "outputs": [
    {
     "data": {
      "image/png": "[encoded data removed]",
      "text/plain": [
       "<Figure size 1080x1008 with 2 Axes>"
      ]
     },
     "metadata": {
      "needs_background": "light"
     },
     "output_type": "display_data"
    }
   ],
   "source": [
    "fig, [ax1,ax2] = plt.subplots(2,1, figsize=(15,14))\n",
    "# twitter api\n",
    "ax1.hist(sorted(api_filtered_tokenize), bins=200)\n",
    "ax1.set_title(\"Real-Time Tweets Word Distribution\",size=14)\n",
    "ax1.set_ylabel(\"Average Number of Mentions Per 100 Tweets\",size=13)\n",
    "ax1.set_xlabel(\"All Normalized Words (alphabetical)\",size=13)\n",
    "ax1.tick_params(axis='y', which='major', labelsize=12)\n",
    "ax1.text(3, 20, f\"Word Count After Normalization: {len(api_filtered_tokenize)}\",fontsize=13)\n",
    "# ax1.axhline(5,color='black',ls='-')\n",
    "\n",
    "# corpus \n",
    "ax2.hist(sorted(corpus_filtered_tokenize), bins=200)\n",
    "ax2.set_title(\"NLTK Corpus Word Distribution\",size=14)\n",
    "ax2.set_ylabel(\"Average Number of Mentions Per 100 Tweets\",size=13)\n",
    "ax2.set_xlabel(\"All Normalized Words (alphabetical)\",size=13)\n",
    "ax2.tick_params(axis='y', which='major', labelsize=12)\n",
    "ax2.text(3, 14, f\"Word Count After Normalization: {len(corpus_filtered_tokenize)}\",fontsize=13)\n",
    "# ax2.axhline(5,color='black',ls='-')\n",
    "plt.show()"
   ]
  },
  {
   "cell_type": "markdown",
   "metadata": {},
   "source": [
    "### Training the NaiveBayesClassifier algorithm"
   ]
  },
  {
   "cell_type": "code",
   "execution_count": 81,
   "metadata": {},
   "outputs": [],
   "source": [
    "# remove undesired text from tokens (puncuation, numbers & symbols, stop words)\n",
    "def clean_data(tweet_tokens, stop_words = ()):\n",
    "\n",
    "    cleaned_tokens = []\n",
    "\n",
    "    for token, tag in pos_tag(tweet_tokens):\n",
    "        # removing unwanted symbols and patterns from tokens using regular expressions\n",
    "        token = re.sub(\"http[s]?://(?:[a-zA-Z]|[0-9]|[$-_@.&+#]|[!*\\(\\),]|(?:%[0-9a-fA-F][0-9a-fA-F]))+\",\"\", token)\n",
    "        token = re.sub(\"(@[A-Za-z0-9_]+)\",\"\", token)\n",
    "        \n",
    "        # assigning new pos tags for WordNetLemmatizer() function\n",
    "        if tag.startswith(\"NN\"):\n",
    "            pos = \"n\"\n",
    "        elif tag.startswith(\"VB\"):\n",
    "            pos = \"v\"\n",
    "        else:\n",
    "            pos = \"a\"\n",
    "            \n",
    "        # lemmatizing tokens (running=run)\n",
    "        lemmatizer = WordNetLemmatizer()\n",
    "        token = lemmatizer.lemmatize(token, pos)\n",
    "        \n",
    "        # dropping puncuation and stop words\n",
    "        if len(token) > 0 and token not in string.punctuation and token.lower() not in stop_words:\n",
    "            cleaned_tokens.append(token.lower())\n",
    "    return cleaned_tokens\n",
    "            \n",
    "# covert list to dictionary with keys=tokens and values=true\n",
    "def get_tweets_for_model(cleaned_tokens_list):\n",
    "    for tweet_tokens in cleaned_tokens_list:\n",
    "        yield dict([token, True] for token in tweet_tokens)"
   ]
  },
  {
   "cell_type": "markdown",
   "metadata": {},
   "source": [
    "#### Tokenizing, cleaning and assembling the dataset"
   ]
  },
  {
   "cell_type": "code",
   "execution_count": 4,
   "metadata": {},
   "outputs": [],
   "source": [
    "# tokenizing positive/negative tweets\n",
    "positive_tokens = twitter_samples.tokenized(\"positive_tweets.json\")\n",
    "negative_tokens = twitter_samples.tokenized(\"negative_tweets.json\")\n",
    "\n",
    "# cleaning and prepping tokens for analysis\n",
    "positive_cleaned_tokens_list = []\n",
    "negative_cleaned_tokens_list = []\n",
    "for tokens in positive_tokens:\n",
    "    positive_cleaned_tokens_list.append(clean_data(tokens, stop_words))\n",
    "for tokens in negative_tokens:\n",
    "    negative_cleaned_tokens_list.append(clean_data(tokens, stop_words))"
   ]
  },
  {
   "cell_type": "code",
   "execution_count": 5,
   "metadata": {},
   "outputs": [],
   "source": [
    "# converting lists of tokens to dictionaries with keys=tokens and values=True\n",
    "positive_tokens_for_model = get_tweets_for_model(positive_cleaned_tokens_list)\n",
    "negative_tokens_for_model = get_tweets_for_model(negative_cleaned_tokens_list)\n",
    "\n",
    "# creating dataset with assigned positive and negative setiment values\n",
    "positive_dataset = [(tweet_dict, \"Positive\") for tweet_dict in positive_tokens_for_model]\n",
    "negative_dataset = [(tweet_dict, \"Negative\") for tweet_dict in negative_tokens_for_model]\n",
    "\n",
    "# combining and shuffling positive and negative datasets \n",
    "dataset = positive_dataset + negative_dataset\n",
    "random.shuffle(dataset)\n",
    "\n",
    "# splitting dataset into train/test data\n",
    "train_data = dataset[:7000]\n",
    "test_data = dataset[7000:]"
   ]
  },
  {
   "cell_type": "markdown",
   "metadata": {},
   "source": [
    "#### Training and testing the NaiveBayesClassifier"
   ]
  },
  {
   "cell_type": "code",
   "execution_count": 6,
   "metadata": {},
   "outputs": [
    {
     "name": "stdout",
     "output_type": "stream",
     "text": [
      "Accuracy is: 0.9973333333333333\n",
      "Most Informative Features\n",
      "                      :) = True           Positi : Negati =    984.0 : 1.0\n",
      "                     sad = True           Negati : Positi =     56.5 : 1.0\n",
      "                followed = True           Negati : Positi =     23.1 : 1.0\n",
      "                follower = True           Positi : Negati =     22.1 : 1.0\n",
      "                     bam = True           Positi : Negati =     20.3 : 1.0\n",
      "                  friday = True           Positi : Negati =     16.1 : 1.0\n",
      "               community = True           Positi : Negati =     15.6 : 1.0\n",
      "                      aw = True           Negati : Positi =     14.4 : 1.0\n",
      "              appreciate = True           Positi : Negati =     14.3 : 1.0\n",
      "                   didnt = True           Negati : Positi =     13.7 : 1.0\n",
      "None\n"
     ]
    }
   ],
   "source": [
    "# training the NaiveBayesClassifier algorithm\n",
    "classifier = NaiveBayesClassifier.train(train_data)\n",
    "# assessing the accuracy of the algorithm\n",
    "print(\"Accuracy is:\", classify.accuracy(classifier, test_data))\n",
    "# displaying the most informative words\n",
    "print(classifier.show_most_informative_features(10))"
   ]
  },
  {
   "cell_type": "markdown",
   "metadata": {},
   "source": [
    "##### Testing the NaiveBayesClassifier on custom text"
   ]
  },
  {
   "cell_type": "code",
   "execution_count": 7,
   "metadata": {},
   "outputs": [
    {
     "data": {
      "text/plain": [
       "'Positive'"
      ]
     },
     "execution_count": 7,
     "metadata": {},
     "output_type": "execute_result"
    }
   ],
   "source": [
    "custom_tweet = \"That chicken alfredo was WOW!!\"\n",
    "\n",
    "custom_tokens = clean_data(word_tokenize(custom_tweet))\n",
    "result = classifier.classify(dict([token, True] for token in custom_tokens))\n",
    "result"
   ]
  },
  {
   "cell_type": "markdown",
   "metadata": {},
   "source": [
    "### Live Twitter Sentiment Analysis\n",
    "* Returns a 'sentiment score' calculated by the NaiveBayesClassifier for any topic provided by the user\n",
    "* 100 real-time tweets posted within the last seven days are analyzed to determine positive or negative sentiment"
   ]
  },
  {
   "cell_type": "code",
   "execution_count": 56,
   "metadata": {},
   "outputs": [
    {
     "name": "stdout",
     "output_type": "stream",
     "text": [
      "Enter the name of the topic to analyze for sentimate :cheesecake factory\n"
     ]
    }
   ],
   "source": [
    "# enable twitter api authorization\n",
    "auth = tweepy.OAuthHandler(api_key, secret_api_key)\n",
    "auth.set_access_token(access_token, secret_access_token)\n",
    "api = tweepy.API(auth)\n",
    "\n",
    "# ask user for name of sentimate analysis subject\n",
    "user_input = input(\"Enter the name of the topic to analyze for sentimate :\")\n",
    "if user_input == \"\":\n",
    "    user_input = input(\"Enter the name of the topic to analyze for sentimate :\")\n",
    "    if user_input == \"\":\n",
    "        exit()\n",
    "\n",
    "# request the twitter api\n",
    "total_tweet_count = 100\n",
    "response = api.search(q=user_input,count=total_tweet_count,tweet_mode=\"extended\",lang=\"en\",result_type=\"mixed\") #result_type=mixed, recent, popular"
   ]
  },
  {
   "cell_type": "code",
   "execution_count": 57,
   "metadata": {},
   "outputs": [
    {
     "name": "stdout",
     "output_type": "stream",
     "text": [
      "Positive results: 74\n",
      "Negative results: 26\n"
     ]
    }
   ],
   "source": [
    "# tally positive and negative results based on the NaiveBayesClassifier algorithm\n",
    "positive_result=0\n",
    "negative_result=0\n",
    "positive_tweets = []\n",
    "negative_tweets = []\n",
    "for tweet in response:\n",
    "    tweet_text = tweet.full_text\n",
    "    tweet_tokens = clean_data(word_tokenize(tweet_text))\n",
    "    result = classifier.classify(dict([token, True] for token in tweet_tokens))\n",
    "    if result == \"Negative\":\n",
    "        negative_result += 1\n",
    "        negative_tweets.append(tweet.full_text)\n",
    "    elif result == \"Positive\":\n",
    "        positive_result += 1\n",
    "        positive_tweets.append(tweet.full_text)\n",
    "print(f\"Positive results: {positive_result}\")\n",
    "print(f\"Negative results: {negative_result}\")"
   ]
  },
  {
   "cell_type": "markdown",
   "metadata": {},
   "source": [
    "- The **Sentimate Score** is calculated using the formula *sentimate_score = (number of positive results / number of tweets analyzed) x 5*"
   ]
  },
  {
   "cell_type": "code",
   "execution_count": 84,
   "metadata": {},
   "outputs": [
    {
     "name": "stdout",
     "output_type": "stream",
     "text": [
      "'Cheesecake Factory' scores a 3.7 out of 5.\n",
      "\n",
      "Positive Tweet Example: '@PCRCEPTlON i’m goin to the cheesecake factory for my birthday in 13 days ♡'\n",
      "\n",
      "Negative Tweet Example: 'I refer to The Cheesecake Factory as “Cheesecake” like that’s all ain’t nobody got time to be saying all them words 😂'\n"
     ]
    }
   ],
   "source": [
    "# calculate sentiment score\n",
    "sentiment_score = round((positive_result/total_tweet_count) * 5,2)\n",
    "print(f\"\"\"'{user_input.title()}' scores a {sentiment_score} out of 5.\n",
    "\"\"\")\n",
    "print(f\"\"\"Positive Tweet Example: '{random.choice(positive_tweets)}'\n",
    "\"\"\")\n",
    "print(f\"Negative Tweet Example: '{random.choice(negative_tweets)}'\")"
   ]
  }
 ],
 "metadata": {
  "kernelspec": {
   "display_name": "Python 3",
   "language": "python",
   "name": "python3"
  },
  "language_info": {
   "codemirror_mode": {
    "name": "ipython",
    "version": 3
   },
   "file_extension": ".py",
   "mimetype": "text/x-python",
   "name": "python",
   "nbconvert_exporter": "python",
   "pygments_lexer": "ipython3",
   "version": "3.7.6"
  }
 },
 "nbformat": 4,
 "nbformat_minor": 4
}
