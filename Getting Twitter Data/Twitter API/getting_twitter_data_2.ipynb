{
 "cells": [
  {
   "cell_type": "code",
   "execution_count": 21,
   "metadata": {},
   "outputs": [],
   "source": [
    "search_term = \"Cheesecake Factory\"\n",
    "\n",
    "import tweepy\n",
    "import pandas as pd\n",
    "import json\n",
    "from config import api_key, secret_api_key, access_token, secret_access_token"
   ]
  },
  {
   "cell_type": "code",
   "execution_count": 22,
   "metadata": {},
   "outputs": [],
   "source": [
    "auth = tweepy.OAuthHandler(api_key, secret_api_key)\n",
    "auth.set_access_token(access_token, secret_access_token)\n",
    "api = tweepy.API(auth)"
   ]
  },
  {
   "cell_type": "code",
   "execution_count": 23,
   "metadata": {},
   "outputs": [],
   "source": [
    "# API.search(q, [geocode], [lang], [locale], [result_type], \\\n",
    "#                        [count], [until], [since_id], [max_id], \\\n",
    "#                        [include_entities])\n",
    "response = api.search(q=search_term,count=100,tweet_mode=\"extended\",lang=\"en\")"
   ]
  },
  {
   "cell_type": "code",
   "execution_count": 33,
   "metadata": {},
   "outputs": [
    {
     "data": {
      "text/html": [
       "<div>\n",
       "<style scoped>\n",
       "    .dataframe tbody tr th:only-of-type {\n",
       "        vertical-align: middle;\n",
       "    }\n",
       "\n",
       "    .dataframe tbody tr th {\n",
       "        vertical-align: top;\n",
       "    }\n",
       "\n",
       "    .dataframe thead th {\n",
       "        text-align: right;\n",
       "    }\n",
       "</style>\n",
       "<table border=\"1\" class=\"dataframe\">\n",
       "  <thead>\n",
       "    <tr style=\"text-align: right;\">\n",
       "      <th></th>\n",
       "      <th>tweet_id</th>\n",
       "      <th>time_when_tweet_created</th>\n",
       "      <th>tweet_range</th>\n",
       "      <th>full_text</th>\n",
       "      <th>tweet_hastags</th>\n",
       "      <th>tweet_source</th>\n",
       "      <th>truncated</th>\n",
       "      <th>is_quoted_tweet_status</th>\n",
       "      <th>retweet_count</th>\n",
       "      <th>favorite_count</th>\n",
       "    </tr>\n",
       "  </thead>\n",
       "  <tbody>\n",
       "    <tr>\n",
       "      <th>0</th>\n",
       "      <td>1307439481788784640</td>\n",
       "      <td>2020-09-19 22:00:38</td>\n",
       "      <td>[0, 114]</td>\n",
       "      <td>I’m getting a Diet Coke with my takeout from C...</td>\n",
       "      <td>None</td>\n",
       "      <td>Twitter for iPhone</td>\n",
       "      <td>False</td>\n",
       "      <td>False</td>\n",
       "      <td>0</td>\n",
       "      <td>0</td>\n",
       "    </tr>\n",
       "    <tr>\n",
       "      <th>1</th>\n",
       "      <td>1307438687052083202</td>\n",
       "      <td>2020-09-19 21:57:28</td>\n",
       "      <td>[15, 128]</td>\n",
       "      <td>@vminscocopuff THE WHOLE DAMN FACTORY GIRL! TR...</td>\n",
       "      <td>None</td>\n",
       "      <td>Twitter for iPhone</td>\n",
       "      <td>False</td>\n",
       "      <td>False</td>\n",
       "      <td>0</td>\n",
       "      <td>1</td>\n",
       "    </tr>\n",
       "    <tr>\n",
       "      <th>2</th>\n",
       "      <td>1307438587583983617</td>\n",
       "      <td>2020-09-19 21:57:04</td>\n",
       "      <td>[0, 140]</td>\n",
       "      <td>After a million months, the Golden Girls of Bo...</td>\n",
       "      <td>None</td>\n",
       "      <td>Twitter for iPhone</td>\n",
       "      <td>False</td>\n",
       "      <td>False</td>\n",
       "      <td>0</td>\n",
       "      <td>1</td>\n",
       "    </tr>\n",
       "    <tr>\n",
       "      <th>3</th>\n",
       "      <td>1307438313385713671</td>\n",
       "      <td>2020-09-19 21:55:59</td>\n",
       "      <td>[25, 172]</td>\n",
       "      <td>@twiz_13 @matthewtoddbal You actually went?! A...</td>\n",
       "      <td>None</td>\n",
       "      <td>Twitter for iPhone</td>\n",
       "      <td>False</td>\n",
       "      <td>False</td>\n",
       "      <td>0</td>\n",
       "      <td>0</td>\n",
       "    </tr>\n",
       "    <tr>\n",
       "      <th>4</th>\n",
       "      <td>1307437982023024641</td>\n",
       "      <td>2020-09-19 21:54:40</td>\n",
       "      <td>[0, 82]</td>\n",
       "      <td>Visiting Cheesecake Factory on an expedition t...</td>\n",
       "      <td>None</td>\n",
       "      <td>Twitter for iPhone</td>\n",
       "      <td>False</td>\n",
       "      <td>False</td>\n",
       "      <td>0</td>\n",
       "      <td>0</td>\n",
       "    </tr>\n",
       "  </tbody>\n",
       "</table>\n",
       "</div>"
      ],
      "text/plain": [
       "              tweet_id time_when_tweet_created tweet_range  \\\n",
       "0  1307439481788784640     2020-09-19 22:00:38    [0, 114]   \n",
       "1  1307438687052083202     2020-09-19 21:57:28   [15, 128]   \n",
       "2  1307438587583983617     2020-09-19 21:57:04    [0, 140]   \n",
       "3  1307438313385713671     2020-09-19 21:55:59   [25, 172]   \n",
       "4  1307437982023024641     2020-09-19 21:54:40     [0, 82]   \n",
       "\n",
       "                                           full_text tweet_hastags  \\\n",
       "0  I’m getting a Diet Coke with my takeout from C...          None   \n",
       "1  @vminscocopuff THE WHOLE DAMN FACTORY GIRL! TR...          None   \n",
       "2  After a million months, the Golden Girls of Bo...          None   \n",
       "3  @twiz_13 @matthewtoddbal You actually went?! A...          None   \n",
       "4  Visiting Cheesecake Factory on an expedition t...          None   \n",
       "\n",
       "         tweet_source  truncated  is_quoted_tweet_status  retweet_count  \\\n",
       "0  Twitter for iPhone      False                   False              0   \n",
       "1  Twitter for iPhone      False                   False              0   \n",
       "2  Twitter for iPhone      False                   False              0   \n",
       "3  Twitter for iPhone      False                   False              0   \n",
       "4  Twitter for iPhone      False                   False              0   \n",
       "\n",
       "   favorite_count  \n",
       "0               0  \n",
       "1               1  \n",
       "2               1  \n",
       "3               0  \n",
       "4               0  "
      ]
     },
     "execution_count": 33,
     "metadata": {},
     "output_type": "execute_result"
    }
   ],
   "source": [
    "df = pd.DataFrame({\n",
    "    \"tweet_id\":[i.id_str for i in response],\n",
    "    \"time_when_tweet_created\":[i.created_at for i in response],\n",
    "    \"tweet_range\":[i.display_text_range for i in response],\n",
    "    \"full_text\":[i.full_text for i in response],\n",
    "    \"tweet_hastags\":[i.entities[\"hashtags\"] if i.place != None else None for i in response],\n",
    "    \"tweet_source\":[i.source for i in response],\n",
    "    \"truncated\":[i.truncated for i in response],\n",
    "    \"is_quoted_tweet_status\":[i.is_quote_status for i in response],\n",
    "    \"retweet_count\":[i.retweet_count for i in response],\n",
    "    \"favorite_count\":[i.favorite_count for i in response],\n",
    "})\n",
    "df.head()"
   ]
  },
  {
   "cell_type": "code",
   "execution_count": null,
   "metadata": {},
   "outputs": [],
   "source": []
  },
  {
   "cell_type": "code",
   "execution_count": 41,
   "metadata": {},
   "outputs": [
    {
     "name": "stdout",
     "output_type": "stream",
     "text": [
      "Positive: 21\n",
      "Negative: 79\n"
     ]
    }
   ],
   "source": [
    "positive_count = 0\n",
    "negative_count = 0\n",
    "positive_tweets = []\n",
    "negative_tweets = []\n",
    "\n",
    "for index, row in df.iterrows():\n",
    "    tweet = row[\"full_text\"]\n",
    "    date = row[\"time_when_tweet_created\"]\n",
    "    favorite_count = row[\"favorite_count\"]\n",
    "    tokens = clean_data(word_tokenize(tweet))\n",
    "    result = classifier.classify(dict([token, True] for token in tokens))\n",
    "    return_object = {\n",
    "        \"tweet\":tweet,\n",
    "        \"result\":result,\n",
    "        \"date\":date,\n",
    "        \"favorite_count\":favorite_count\n",
    "    }\n",
    "    if return_object[\"result\"] == \"Negative\":\n",
    "        negative_count += 1\n",
    "        negative_tweets.append(return_object)\n",
    "        \n",
    "    elif return_object[\"result\"] == \"Positive\":\n",
    "        positive_count += 1\n",
    "        positive_tweets.append(return_object)\n",
    "\n",
    "print(f\"Positive: {positive_count}\")\n",
    "print(f\"Negative: {negative_count}\")"
   ]
  },
  {
   "cell_type": "code",
   "execution_count": 45,
   "metadata": {},
   "outputs": [
    {
     "data": {
      "text/plain": [
       "'I hate those dudes that think they’re blessing you by offering a “real date” \\nBro I don’t want to go to the Cheesecake Factory for 1/2 price appetizers.\\nI want to order Uber eats to the roof of the parking garage at 2 am, smoke three joints and talk about world domination.'"
      ]
     },
     "execution_count": 45,
     "metadata": {},
     "output_type": "execute_result"
    }
   ],
   "source": [
    "positive_tweet = pd.DataFrame(list(positive_tweets)).sort_values(\"favorite_count\", ascending=False).iloc[0][\"tweet\"]\n",
    "negative_tweet = pd.DataFrame(list(negative_tweets)).sort_values(\"favorite_count\", ascending=False).iloc[0][\"tweet\"]"
   ]
  },
  {
   "cell_type": "code",
   "execution_count": null,
   "metadata": {},
   "outputs": [],
   "source": [
    "def get_tweets(search_term):\n",
    "    auth = tweepy.OAuthHandler(api_key, secret_api_key)\n",
    "    auth.set_access_token(access_token, secret_access_token)\n",
    "    api = tweepy.API(auth)\n",
    "    \n",
    "    response = api.search(q=search_term,count=100,tweet_mode=\"extended\",lang=\"en\")\n",
    "    \n",
    "    df = pd.DataFrame({\n",
    "    \"tweet_id\":[i.id_str for i in response],\n",
    "    \"time_when_tweet_created\":[i.created_at for i in response],\n",
    "    \"tweet_range\":[i.display_text_range for i in response],\n",
    "    \"full_text\":[i.full_text for i in response],\n",
    "    \"tweet_hastags\":[i.entities[\"hashtags\"] if i.place != None else None for i in response],\n",
    "    \"tweet_source\":[i.source for i in response],\n",
    "    \"truncated\":[i.truncated for i in response],\n",
    "    \"is_quoted_tweet_status\":[i.is_quote_status for i in response],\n",
    "    \"retweet_count\":[i.retweet_count for i in response],\n",
    "    \"favorite_count\":[i.favorite_count for i in response],\n",
    "    })\n",
    "    \n",
    "    return df"
   ]
  }
 ],
 "metadata": {
  "kernelspec": {
   "display_name": "Python 3",
   "language": "python",
   "name": "python3"
  },
  "language_info": {
   "codemirror_mode": {
    "name": "ipython",
    "version": 3
   },
   "file_extension": ".py",
   "mimetype": "text/x-python",
   "name": "python",
   "nbconvert_exporter": "python",
   "pygments_lexer": "ipython3",
   "version": "3.7.6"
  }
 },
 "nbformat": 4,
 "nbformat_minor": 4
}
