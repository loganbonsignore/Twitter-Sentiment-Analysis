{
 "cells": [
  {
   "cell_type": "code",
   "execution_count": 56,
   "metadata": {},
   "outputs": [],
   "source": [
    "def top_tweet():\n",
    "    \n",
    "    # creating dataframe from db\n",
    "    df = pd.DataFrame(list(db.cheesecake_factory.find()))\n",
    "\n",
    "    # calculating total engagement\n",
    "    df['total_engagement']=df[['num_of_favorites', 'num_of_replies', 'num_retweets']].sum(axis=1)\n",
    "\n",
    "    # Finding the top 10 tweets based on total engagement\n",
    "    top_tweets_df = df.sort_values(\"total_engagement\", ascending=False).head(10)\n",
    "\n",
    "    # assigning variables\n",
    "    top_10_tweets = [tweet[\"original_tweet\"] for index, tweet in top_tweets_df.iterrows()]\n",
    "    top_tweet = top_tweets_df.iloc[0][\"original_tweet\"]\n",
    "    \n",
    "    return top_tweet, top_10_tweets"
   ]
  },
  {
   "cell_type": "code",
   "execution_count": 62,
   "metadata": {},
   "outputs": [],
   "source": [
    "test = top_tweet()\n"
   ]
  },
  {
   "cell_type": "code",
   "execution_count": 72,
   "metadata": {},
   "outputs": [
    {
     "name": "stdout",
     "output_type": "stream",
     "text": [
      "I\n",
      "[\n",
      "W\n",
      "Y\n",
      "T\n",
      "M\n",
      "i\n",
      "W\n",
      "y\n",
      "i\n"
     ]
    }
   ],
   "source": [
    "for i in test[1]:\n",
    "    print(i[0])"
   ]
  },
  {
   "cell_type": "code",
   "execution_count": null,
   "metadata": {},
   "outputs": [],
   "source": []
  }
 ],
 "metadata": {
  "kernelspec": {
   "display_name": "Python 3",
   "language": "python",
   "name": "python3"
  },
  "language_info": {
   "codemirror_mode": {
    "name": "ipython",
    "version": 3
   },
   "file_extension": ".py",
   "mimetype": "text/x-python",
   "name": "python",
   "nbconvert_exporter": "python",
   "pygments_lexer": "ipython3",
   "version": "3.7.6"
  }
 },
 "nbformat": 4,
 "nbformat_minor": 4
}
