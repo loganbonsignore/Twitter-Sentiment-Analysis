{
 "cells": [
  {
   "cell_type": "code",
   "execution_count": 11,
   "metadata": {},
   "outputs": [],
   "source": [
    "from splinter import Browser\n",
    "from flask import Flask, jsonify, redirect\n",
    "import pandas as pd\n",
    "from bs4 import BeautifulSoup as bs\n",
    "import time\n",
    "import pymongo\n",
    "import re\n",
    "import datetime"
   ]
  },
  {
   "cell_type": "code",
   "execution_count": 12,
   "metadata": {},
   "outputs": [],
   "source": [
    "executable_path = {\"executable_path\": \"/usr/local/bin/chromedriver\"}\n",
    "browser = Browser(\"chrome\", **executable_path, headless=False)\n",
    "client = pymongo.MongoClient(\"mongodb://localhost:27017\")\n",
    "db = client.mars_db"
   ]
  },
  {
   "cell_type": "markdown",
   "metadata": {},
   "source": [
    "#### https://mars.nasa.gov/news/"
   ]
  },
  {
   "cell_type": "code",
   "execution_count": 13,
   "metadata": {},
   "outputs": [
    {
     "name": "stdout",
     "output_type": "stream",
     "text": [
      "NASA Readies Perseverance Mars Rover's Earthly Twin \n",
      "Did you know NASA's next Mars rover has a nearly identical sibling on Earth for testing? Even better, it's about to roll for the first time through a replica Martian landscape.\n"
     ]
    }
   ],
   "source": [
    "# Retrieving news title and teaser\n",
    "browser.visit(\"https://mars.nasa.gov/news/\")\n",
    "time.sleep(2)\n",
    "\n",
    "soup = bs(browser.html, \"html.parser\")\n",
    "time.sleep(1)\n",
    "items = soup.find(\"ul\",class_=\"item_list\")\n",
    "slides = items.find_all(\"li\", class_=\"slide\")\n",
    "\n",
    "news_titles = []\n",
    "news_paragraphs = []\n",
    "for slide in slides:\n",
    "    news_title = slide.find(\"div\", class_=\"content_title\").text\n",
    "    news_p = slide.find(\"div\", class_=\"article_teaser_body\").text\n",
    "    news_titles.append(news_title)\n",
    "    news_paragraphs.append(news_p)\n",
    "\n",
    "print(news_titles[0])\n",
    "print(news_paragraphs[0])"
   ]
  },
  {
   "cell_type": "markdown",
   "metadata": {},
   "source": [
    "#### https://www.jpl.nasa.gov/spaceimages/?search=&category=Mars"
   ]
  },
  {
   "cell_type": "code",
   "execution_count": 14,
   "metadata": {},
   "outputs": [
    {
     "data": {
      "text/plain": [
       "'https://jpl.nasa.gov/spaceimages/images/mediumsize/PIA00046_ip.jpg'"
      ]
     },
     "execution_count": 14,
     "metadata": {},
     "output_type": "execute_result"
    }
   ],
   "source": [
    "# Retrieving featured image url\n",
    "browser.visit(\"https://www.jpl.nasa.gov/spaceimages/?search=&category=Mars\")\n",
    "browser.find_by_id(\"full_image\").click()\n",
    "time.sleep(2)\n",
    "\n",
    "soup = bs(browser.html, \"html.parser\")\n",
    "image_src = soup.find(\"img\", class_=\"fancybox-image\")[\"src\"]\n",
    "\n",
    "featured_image_url = f\"https://jpl.nasa.gov{image_src}\"\n",
    "featured_image_url"
   ]
  },
  {
   "cell_type": "markdown",
   "metadata": {},
   "source": [
    "#### https://space-facts.com/mars/"
   ]
  },
  {
   "cell_type": "code",
   "execution_count": 15,
   "metadata": {},
   "outputs": [
    {
     "data": {
      "text/plain": [
       "'<table border=\"1\" class=\"dataframe\">  <thead>    <tr style=\"text-align: center;\">      <th>Mars - Earth Comparison</th>      <th>Mars</th>      <th>Earth</th>    </tr>  </thead>  <tbody>    <tr>      <td>Diameter:</td>      <td>6,779 km</td>      <td>12,742 km</td>    </tr>    <tr>      <td>Mass:</td>      <td>6.39 × 10^23 kg</td>      <td>5.97 × 10^24 kg</td>    </tr>    <tr>      <td>Moons:</td>      <td>2</td>      <td>1</td>    </tr>    <tr>      <td>Distance from Sun:</td>      <td>227,943,824 km</td>      <td>149,598,262 km</td>    </tr>    <tr>      <td>Length of Year:</td>      <td>687 Earth days</td>      <td>365.24 days</td>    </tr>    <tr>      <td>Temperature:</td>      <td>-87 to -5 °C</td>      <td>-88 to 58°C</td>    </tr>  </tbody></table>'"
      ]
     },
     "execution_count": 15,
     "metadata": {},
     "output_type": "execute_result"
    }
   ],
   "source": [
    "# Retriving mars facts table\n",
    "browser.visit(\"https://space-facts.com/mars/\")\n",
    "df = pd.read_html(browser.html)[1]\n",
    "mars_facts_table_html = df.to_html(index=False, justify=\"center\")\n",
    "mars_facts_table_html = mars_facts_table_html.replace(\"\\n\",\"\")\n",
    "mars_facts_table_html"
   ]
  },
  {
   "cell_type": "markdown",
   "metadata": {},
   "source": [
    "#### https://astrogeology.usgs.gov/search/results?q=hemisphere+enhanced&k1=target&v1=Mars"
   ]
  },
  {
   "cell_type": "code",
   "execution_count": 17,
   "metadata": {},
   "outputs": [
    {
     "name": "stderr",
     "output_type": "stream",
     "text": [
      "/Users/loganbon/opt/anaconda3/lib/python3.7/site-packages/ipykernel_launcher.py:32: DeprecationWarning: update is deprecated. Use replace_one, update_one or update_many instead.\n"
     ]
    },
    {
     "data": {
      "text/plain": [
       "{'news_titles': [\"NASA Readies Perseverance Mars Rover's Earthly Twin \",\n",
       "  \"NASA Engineers Checking InSight's Weather Sensors\",\n",
       "  \"Follow NASA's Perseverance Rover in Real Time on Its Way to Mars\",\n",
       "  'NASA Establishes Board to Initially Review Mars Sample Return Plans',\n",
       "  \"NASA's Ingenuity Mars Helicopter Recharges Its Batteries in Flight\",\n",
       "  \"Celebrate Mars Reconnaissance Orbiter's Views From Above\",\n",
       "  \"NASA's MAVEN Observes Martian Night Sky Pulsing in Ultraviolet Light\",\n",
       "  \"8 Martian Postcards to Celebrate Curiosity's Landing Anniversary\",\n",
       "  'NASA, ULA Launch Mars 2020 Perseverance Rover Mission to Red Planet',\n",
       "  \"NASA's Perseverance Rover Will Carry First Spacesuit Materials to Mars\",\n",
       "  \"A New Video Captures the Science of NASA's Perseverance Mars Rover\",\n",
       "  'NASA Invites Public to Share Excitement of Mars 2020 Perseverance Rover Launch',\n",
       "  \"NASA's Mars Perseverance Rover Passes Flight Readiness Review\",\n",
       "  'NASA to Broadcast Mars 2020 Perseverance Launch, Prelaunch Activities',\n",
       "  \"6 Things to Know About NASA's Ingenuity Mars Helicopter\",\n",
       "  'Join NASA for the Launch of the Mars 2020 Perseverance Rover',\n",
       "  \"NASA's Perseverance Rover Attached to Atlas V Rocket\",\n",
       "  '7 Things to Know About the Mars 2020 Perseverance Rover Mission',\n",
       "  \"NASA's InSight Flexes Its Arm While Its 'Mole' Hits Pause\",\n",
       "  \"Curiosity Mars Rover's Summer Road Trip Has Begun\",\n",
       "  \"How NASA's Mars Helicopter Will Reach the Red Planet's Surface\",\n",
       "  \"The Launch Is Approaching for NASA's Next Mars Rover, Perseverance\",\n",
       "  'NASA to Hold Mars 2020 Perseverance Rover Launch Briefing',\n",
       "  \"While Stargazing on Mars, NASA's Curiosity Rover Spots Earth and Venus\",\n",
       "  \"NASA's Mars Rover Drivers Need Your Help\",\n",
       "  \"Three New Views of Mars' Moon Phobos\",\n",
       "  \"The Extraordinary Sample-Gathering System of NASA's Perseverance Mars Rover\",\n",
       "  \"The Detective Aboard NASA's Perseverance Rover\",\n",
       "  'MAVEN Maps Electric Currents around Mars that are Fundamental to Atmospheric Loss',\n",
       "  \"Air Deliveries Bring NASA's Perseverance Mars Rover Closer to Launch\",\n",
       "  \"NASA Wins 4 Webbys, 4 People's Voice Awards\",\n",
       "  \"NASA's Perseverance Rover Goes Through Trials by Fire, Ice, Light and Sound\",\n",
       "  \"NASA's Perseverance Rover Mission Getting in Shape for Launch\",\n",
       "  'NASA Perseverance Mars Rover Scientists Train in the Nevada Desert',\n",
       "  \"NASA's Perseverance Rover Will Look at Mars Through These 'Eyes'\",\n",
       "  \"Meet the People Behind NASA's Perseverance Rover\",\n",
       "  \"Q&A with the Student Who Named Ingenuity, NASA's Mars Helicopter\",\n",
       "  \"Alabama High School Student Names NASA's Mars Helicopter\",\n",
       "  \"How NASA's Perseverance Mars Team Adjusted to Work in the Time of Coronavirus \",\n",
       "  \"NASA's Perseverance Mars Rover Gets Balanced\"],\n",
       " 'news_paragraphs': [\"Did you know NASA's next Mars rover has a nearly identical sibling on Earth for testing? Even better, it's about to roll for the first time through a replica Martian landscape.\",\n",
       "  'An electronics issue is suspected to be preventing the sensors from sharing their data about Mars weather with the spacecraft.',\n",
       "  \"A crisply rendered web application can show you where the agency's Mars 2020 mission is right now as it makes its way to the Red Planet for a Feb. 18, 2021, landing.\",\n",
       "  'The board will assist with analysis of current plans and goals for one of the most difficult missions humanity has ever undertaken.',\n",
       "  'Headed to the Red Planet with the Perseverance rover, the pioneering helicopter is powered up for the first time in interplanetary space as part of a systems check.',\n",
       "  'Marking its 15th anniversary since launch, one of the oldest spacecraft at the Red Planet has provided glimpses of dust devils, avalanches, and more.',\n",
       "  'Vast areas of the Martian night sky pulse in ultraviolet light, according to images from NASA’s MAVEN spacecraft. The results are being used to illuminate complex circulation patterns in the Martian atmosphere.',\n",
       "  'The NASA rover touched down eight years ago, on Aug. 5, 2012, and will soon be joined by a second rover, Perseverance.',\n",
       "  \"The agency's Mars 2020 mission is on its way. It will land at Jezero Crater in about seven months, on Feb. 18, 2021. \",\n",
       "  'In a Q&A, spacesuit designer Amy Ross explains how five samples, including a piece of helmet visor, will be tested aboard the rover, which is targeting a July 30 launch. ',\n",
       "  'With a targeted launch date of July 30, the next robotic scientist NASA is sending to the to the Red Planet has big ambitions.',\n",
       "  'There are lots of ways to participate in the historic event, which is targeted for July 30.',\n",
       "  \"\\u200bThe agency's Mars 2020 mission has one more big prelaunch review – the Launch Readiness Review, on July 27.\",\n",
       "  'Starting July 27, news activities will cover everything from mission engineering and science to returning samples from Mars to, of course, the launch itself.',\n",
       "  'The first helicopter attempting to fly on another planet is a marvel of engineering. Get up to speed with these key facts about its plans.',\n",
       "  'No matter where you live, choose from a menu of activities to join NASA as we \"Countdown to Mars\" and launch the Perseverance rover to the Red Planet.',\n",
       "  'Ready for its launch later in the month, the Mars-bound rover will touch terra firma no more.',\n",
       "  \"NASA's next rover to the Red Planet is slated to launch no earlier than July 30. These highlights will get you up to speed on the ambitious mission.\",\n",
       "  \"Now that the lander's robotic arm has helped the mole get underground, it will resume science activities that have been on hold.\",\n",
       "  'After more than a year in the \"clay-bearing unit,\" Curiosity is making a mile-long journey around some deep sand so that it can explore higher up Mount Sharp.',\n",
       "  'The small craft will seek to prove that powered, controlled flight is possible on another planet. But just getting it onto the surface of Mars will take a whole lot of ingenuity.',\n",
       "  \"The Red Planet's surface has been visited by eight NASA spacecraft. The ninth will be the first that includes a roundtrip ticket in its flight plan. \",\n",
       "  \"Learn more about the agency's next Red Planet mission during a live event on June 17.\",\n",
       "  \"This new portrait of the Red Planet's neighbors was taken during a time when there's more dust in the air on Mars.\",\n",
       "  'Using an online tool to label Martian terrain types, you can train an artificial intelligence algorithm that could improve the way engineers guide the Curiosity rover.',\n",
       "  \"Taken with the infrared camera aboard NASA's Odyssey orbiter, they reveal temperature variations on the small moon as it drifts into and out of Mars’ shadow.\",\n",
       "  'Two astronauts collected Moon rocks on Apollo 11. It will take three robotic systems working together to gather up the first Mars rock samples for return to Earth.',\n",
       "  'An instrument called SHERLOC will, with the help of its partner WATSON, hunt for signs of ancient life by detecting organic molecules and minerals.',\n",
       "  'Five years after NASA’s MAVEN spacecraft entered into orbit around Mars, data from the mission has led to the creation of a map of electric current systems in the Martian atmosphere.',\n",
       "  \"A NASA Wallops Flight Facility cargo plane transported more than two tons of equipment — including the rover's sample collection tubes — to Florida for this summer's liftoff.\",\n",
       "  'Winners include the JPL-managed \"Send Your Name to Mars\" campaign, NASA\\'s Global Climate Change website and Solar System Interactive.',\n",
       "  \"The agency's new Mars rover is put through a series of tests in vacuum chambers, acoustic chambers and more to get ready for the Red Planet.\",\n",
       "  'Stacking spacecraft components on top of each other is one of the final assembly steps before a mission launches to the Red Planet. ',\n",
       "  \"Team members searched for signs of ancient microscopic life there, just as NASA's latest rover will on the Red Planet next year.\",\n",
       "  'A pair of zoomable cameras will help scientists and rover drivers with high-resolution color images.',\n",
       "  \"These are the scientists and engineers who built NASA's next Mars rover and who will guide it to a safe landing in Jezero Crater. \",\n",
       "  'As a longtime fan of space exploration, Vaneeza Rupani appreciates the creativity and collaboration involved with trying to fly on another planet.',\n",
       "  \"Vaneeza Rupani's essay was chosen as the name for the small spacecraft, which will mark NASA's first attempt at powered flight on another planet.\",\n",
       "  'Like much of the rest of the world, the Mars rover team is pushing forward with its mission-critical work while putting the health and safety of their colleagues and community first.',\n",
       "  \"The mission team performed a crucial weight-balancing test on the rover in preparation for this summer's history-making launch to the Red Planet.\"],\n",
       " 'featured_image_url': 'https://jpl.nasa.gov/spaceimages/images/mediumsize/PIA00046_ip.jpg',\n",
       " 'mars_facts_table_html': '<table border=\"1\" class=\"dataframe\">  <thead>    <tr style=\"text-align: center;\">      <th>Mars - Earth Comparison</th>      <th>Mars</th>      <th>Earth</th>    </tr>  </thead>  <tbody>    <tr>      <td>Diameter:</td>      <td>6,779 km</td>      <td>12,742 km</td>    </tr>    <tr>      <td>Mass:</td>      <td>6.39 × 10^23 kg</td>      <td>5.97 × 10^24 kg</td>    </tr>    <tr>      <td>Moons:</td>      <td>2</td>      <td>1</td>    </tr>    <tr>      <td>Distance from Sun:</td>      <td>227,943,824 km</td>      <td>149,598,262 km</td>    </tr>    <tr>      <td>Length of Year:</td>      <td>687 Earth days</td>      <td>365.24 days</td>    </tr>    <tr>      <td>Temperature:</td>      <td>-87 to -5 °C</td>      <td>-88 to 58°C</td>    </tr>  </tbody></table>',\n",
       " 'hemisphere_list': [{'title': 'Cerberus Hemisphere',\n",
       "   'image_url': 'https://astropedia.astrogeology.usgs.gov/download/Mars/Viking/cerberus_enhanced.tif/full.jpg'},\n",
       "  {'title': 'Schiaparelli Hemisphere',\n",
       "   'image_url': 'https://astropedia.astrogeology.usgs.gov/download/Mars/Viking/schiaparelli_enhanced.tif/full.jpg'},\n",
       "  {'title': 'Syrtis Major Hemisphere',\n",
       "   'image_url': 'https://astropedia.astrogeology.usgs.gov/download/Mars/Viking/syrtis_major_enhanced.tif/full.jpg'},\n",
       "  {'title': 'Valles Marineris Hemisphere',\n",
       "   'image_url': 'https://astropedia.astrogeology.usgs.gov/download/Mars/Viking/valles_marineris_enhanced.tif/full.jpg'}],\n",
       " 'date': datetime.datetime(2020, 9, 14, 14, 33, 37, 205988)}"
      ]
     },
     "execution_count": 17,
     "metadata": {},
     "output_type": "execute_result"
    }
   ],
   "source": [
    "browser.visit(\"https://astrogeology.usgs.gov/search/results?q=hemisphere+enhanced&k1=target&v1=Mars\")\n",
    "time.sleep(1)\n",
    "soup = bs(browser.html, \"html.parser\")\n",
    "\n",
    "# Retrieving hemishere page's urls\n",
    "hemisphere_urls = []\n",
    "hemispheres = soup.find_all(\"div\", class_=\"description\")\n",
    "for hemisphere in hemispheres:\n",
    "    url = hemisphere.find(\"a\")[\"href\"]\n",
    "    url = f\"https://astrogeology.usgs.gov{url}\"\n",
    "    hemisphere_urls.append(url)\n",
    "\n",
    "# Retrieving titles and image links of different hemispheres\n",
    "hemisphere_list = []\n",
    "for hemisphere_url in hemisphere_urls:\n",
    "    browser.visit(hemisphere_url)\n",
    "    time.sleep(2)\n",
    "    soup = bs(browser.html, \"html.parser\")\n",
    "    title = soup.find(\"h2\", class_=\"title\").text\n",
    "    title = re.sub(\" Enhanced\",\"\",title)\n",
    "    image_url = soup.find_all(\"li\")[0].find(\"a\")[\"href\"]\n",
    "    hemisphere_list.append({\"title\":title, \"image_url\":image_url})\n",
    "\n",
    "return_dict = {}\n",
    "return_dict[\"news_titles\"] = news_titles\n",
    "return_dict[\"news_paragraphs\"] = news_paragraphs\n",
    "return_dict[\"featured_image_url\"] = featured_image_url\n",
    "return_dict[\"mars_facts_table_html\"] = mars_facts_table_html\n",
    "return_dict[\"hemisphere_list\"] = hemisphere_list\n",
    "return_dict[\"date\"] = datetime.datetime.utcnow()\n",
    "\n",
    "db.mission_to_mars.update({}, return_dict, upsert=True)\n",
    "\n",
    "browser.quit()\n",
    "\n",
    "return_dict"
   ]
  }
 ],
 "metadata": {
  "kernelspec": {
   "display_name": "Python 3",
   "language": "python",
   "name": "python3"
  },
  "language_info": {
   "codemirror_mode": {
    "name": "ipython",
    "version": 3
   },
   "file_extension": ".py",
   "mimetype": "text/x-python",
   "name": "python",
   "nbconvert_exporter": "python",
   "pygments_lexer": "ipython3",
   "version": "3.7.6"
  }
 },
 "nbformat": 4,
 "nbformat_minor": 4
}
